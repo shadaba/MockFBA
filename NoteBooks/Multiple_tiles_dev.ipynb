{
 "cells": [
  {
   "cell_type": "markdown",
   "id": "b489ada0",
   "metadata": {},
   "source": [
    "# This is to develope the functions to work with multiple tiles and write output to files\n",
    "Shadab Alam\n"
   ]
  },
  {
   "cell_type": "code",
   "execution_count": 1,
   "id": "08d8797c",
   "metadata": {},
   "outputs": [],
   "source": [
    "using Pkg\n",
    "#pkg\"activate ../src/MockFBA\"\n",
    "#pkg\"add FITSIO\""
   ]
  },
  {
   "cell_type": "code",
   "execution_count": 2,
   "id": "4fb3240e",
   "metadata": {},
   "outputs": [
    {
     "ename": "LoadError",
     "evalue": "importing MockFBA into Main conflicts with an existing identifier",
     "output_type": "error",
     "traceback": [
      "importing MockFBA into Main conflicts with an existing identifier",
      "",
      "Stacktrace:",
      " [1] eval",
      "   @ ./boot.jl:373 [inlined]",
      " [2] include_string(mapexpr::typeof(REPL.softscope), mod::Module, code::String, filename::String)",
      "   @ Base ./loading.jl:1196"
     ]
    }
   ],
   "source": [
    "include(\"../src/MockFBA.jl\")\n",
    "import MockFBA"
   ]
  },
  {
   "cell_type": "code",
   "execution_count": 3,
   "id": "1d1edd73",
   "metadata": {},
   "outputs": [],
   "source": [
    "using Printf\n",
    "using JLD2\n",
    "using Plots\n",
    "using BenchmarkTools\n",
    "using YAML\n",
    "using FITSIO\n",
    "using Dates"
   ]
  },
  {
   "cell_type": "code",
   "execution_count": 4,
   "id": "b582b81d",
   "metadata": {},
   "outputs": [
    {
     "name": "stderr",
     "output_type": "stream",
     "text": [
      "WARNING: using MockFBA.MockFBA in module Main conflicts with an existing identifier.\n"
     ]
    },
    {
     "ename": "LoadError",
     "evalue": "importing MockFBA into Main conflicts with an existing identifier",
     "output_type": "error",
     "traceback": [
      "importing MockFBA into Main conflicts with an existing identifier",
      "",
      "Stacktrace:",
      " [1] eval",
      "   @ ./boot.jl:373 [inlined]",
      " [2] include_string(mapexpr::typeof(REPL.softscope), mod::Module, code::String, filename::String)",
      "   @ Base ./loading.jl:1196"
     ]
    }
   ],
   "source": [
    "using MockFBA"
   ]
  },
  {
   "cell_type": "code",
   "execution_count": 4,
   "id": "d8dd23a4",
   "metadata": {},
   "outputs": [
    {
     "data": {
      "text/plain": [
       "Dict{Any, Any} with 9 entries:\n",
       "  \"RandomSeed\"        => 1\n",
       "  \"focal_plane\"       => Dict{Any, Any}(\"focalplane_dir\"=>\"/Users/shadab/Docume…\n",
       "  \"steps\"             => [\"pre-process\", \"assignment\", \"post-process\"]\n",
       "  \"TILES\"             => Dict{Any, Any}(\"PROGRAM\"=>\"DARK\", \"tile_file\"=>\"/Users…\n",
       "  \"sky\"               => \"SGC\"\n",
       "  \"OUTPUT\"            => Dict{Any, Any}(\"JLD2_dir\"=>\"/Users/shadab/Documents/Pr…\n",
       "  \"target\"            => Dict{Any, Any}(\"QSO\"=>Dict{Any, Any}(\"Num_obs\"=>1, \"JL…\n",
       "  \"group\"             => \"SGC\"\n",
       "  \"NumFBARealization\" => 100"
      ]
     },
     "execution_count": 4,
     "metadata": {},
     "output_type": "execute_result"
    }
   ],
   "source": [
    "config=YAML.load_file(\"../config.yaml\")\n"
   ]
  },
  {
   "cell_type": "code",
   "execution_count": 175,
   "id": "f5150215",
   "metadata": {},
   "outputs": [
    {
     "name": "stdout",
     "output_type": "stream",
     "text": [
      "Loading tiles from: /Users/shadab/Documents/Projects/MockFBA/footprint/Tiles_year1.fits\n"
     ]
    },
    {
     "data": {
      "text/plain": [
       "Dict{Integer, Integer} with 669 entries:\n",
       "  4805  => 2\n",
       "  10548 => 6\n",
       "  2261  => 0\n",
       "  1175  => 0\n",
       "  1855  => 0\n",
       "  2288  => 0\n",
       "  1546  => 0\n",
       "  3235  => 1\n",
       "  1010  => 0\n",
       "  7805  => 4\n",
       "  7405  => 4\n",
       "  10520 => 6\n",
       "  6371  => 3\n",
       "  4802  => 2\n",
       "  4988  => 2\n",
       "  4814  => 2\n",
       "  1188  => 0\n",
       "  7808  => 4\n",
       "  4135  => 2\n",
       "  6754  => 3\n",
       "  8544  => 4\n",
       "  1722  => 0\n",
       "  4807  => 2\n",
       "  4673  => 2\n",
       "  5376  => 2\n",
       "  ⋮     => ⋮"
      ]
     },
     "execution_count": 175,
     "metadata": {},
     "output_type": "execute_result"
    }
   ],
   "source": [
    "\n",
    "\n",
    "\n",
    "map_TILEID2PASS(config)\n",
    "#tiles_2pass maps\n"
   ]
  },
  {
   "cell_type": "code",
   "execution_count": null,
   "id": "f75a5628",
   "metadata": {},
   "outputs": [],
   "source": []
  },
  {
   "cell_type": "code",
   "execution_count": 246,
   "id": "cfe17f12",
   "metadata": {},
   "outputs": [
    {
     "name": "stdout",
     "output_type": "stream",
     "text": [
      "Warning: Want to pack 100 bits in 32, will use only first 96\n",
      "Warning: Ignoring the last 4 realizations\n",
      "Loading tiles from: /Users/shadab/Documents/Projects/MockFBA/footprint/Tiles_year1.fits\n",
      "(izone_min, izone_max, max_nobj) = (1, 8, 318202)\n",
      "7408 4 counts (min,max):0 1\n",
      "counts (min,max):0 1\n",
      "Int32[0, 1]\n",
      "2022-01-18T14:23:48.261 written: 107320/Users/shadab/Documents/Projects/MockFBA/mocks/FITS_FBA/FBA_ph000/tmp/SGC_LRG_zone_1.fits.gz\n",
      "Warning: No tile in zone 2, skipping\n",
      "Warning: No tile in zone 3, skipping\n",
      "Warning: No tile in zone 4, skipping\n",
      "Warning: No tile in zone 5, skipping\n",
      "Warning: No tile in zone 6, skipping\n",
      "Warning: No tile in zone 7, skipping\n",
      "2049 0 counts (min,max):0 1\n",
      "1006 0 counts (min,max):0 1\n",
      "2065 0 counts (min,max):0 1\n",
      "2047 0 counts (min,max):0 1\n",
      "2048 0 counts (min,max):0 1\n",
      "2042 0 counts (min,max):0 1\n",
      "2051 0 counts (min,max):0 1\n",
      "2045 0 counts (min,max):0 1\n",
      "2053 0 counts (min,max):0 1\n",
      "2052 0 counts (min,max):0 1\n",
      "2061 0 counts (min,max):0 1\n",
      "2062 0 counts (min,max):0 1\n",
      "1155 0 counts (min,max):0 1\n",
      "1188 0 counts (min,max):0 1\n",
      "1147 0 counts (min,max):0 1\n",
      "1175 0 counts (min,max):0 1\n",
      "1176 0 counts (min,max):0 1\n",
      "1165 0 counts (min,max):0 1\n",
      "1145 0 counts (min,max):0 1\n",
      "1146 0 counts (min,max):0 1\n",
      "1154 0 counts (min,max):0 1\n",
      "1546 0 counts (min,max):0 1\n",
      "3622 1 counts (min,max):0 2\n",
      "2750 1 counts (min,max):0 2\n",
      "3605 1 counts (min,max):0 2\n",
      "2739 1 counts (min,max):0 2\n",
      "3608 1 counts (min,max):0 2\n",
      "3610 1 counts (min,max):0 2\n",
      "2718 1 counts (min,max):0 2\n",
      "2727 1 counts (min,max):0 2\n",
      "3619 1 counts (min,max):0 2\n",
      "3618 1 counts (min,max):0 2\n",
      "3810 1 counts (min,max):0 2\n",
      "3849 1 counts (min,max):0 2\n",
      "2763 1 counts (min,max):0 2\n",
      "2740 1 counts (min,max):0 2\n",
      "2749 1 counts (min,max):0 2\n",
      "2738 1 counts (min,max):0 2\n",
      "2716 1 counts (min,max):0 2\n",
      "2717 1 counts (min,max):0 2\n",
      "2725 1 counts (min,max):0 2\n",
      "2726 1 counts (min,max):0 2\n",
      "2736 1 counts (min,max):0 2\n",
      "3117 1 counts (min,max):0 2\n",
      "3119 1 counts (min,max):0 2\n",
      "3120 1 counts (min,max):0 2\n",
      "5168 2 counts (min,max):0 3\n",
      "5171 2 counts (min,max):0 3\n",
      "4307 2 counts (min,max):0 3\n",
      "4283 2 counts (min,max):0 3\n",
      "5173 2 counts (min,max):0 3\n",
      "5182 2 counts (min,max):0 3\n",
      "4296 2 counts (min,max):0 3\n",
      "5181 2 counts (min,max):0 3\n",
      "5376 2 counts (min,max):0 3\n",
      "5415 2 counts (min,max):0 3\n",
      "4330 2 counts (min,max):0 3\n",
      "5377 2 counts (min,max):0 3\n",
      "4318 2 counts (min,max):0 3\n",
      "4282 2 counts (min,max):0 3\n",
      "4295 2 counts (min,max):0 3\n",
      "4685 2 counts (min,max):0 3\n",
      "4682 2 counts (min,max):0 3\n",
      "4686 2 counts (min,max):0 3\n",
      "6744 3 counts (min,max):0 4\n",
      "6762 3 counts (min,max):0 4\n",
      "6738 3 counts (min,max):0 4\n",
      "6745 3 counts (min,max):0 4\n",
      "6739 3 counts (min,max):0 4\n",
      "6748 3 counts (min,max):0 4\n",
      "6742 3 counts (min,max):0 4\n",
      "6749 3 counts (min,max):0 4\n",
      "6750 3 counts (min,max):0 4\n",
      "6754 3 counts (min,max):0 4\n",
      "6957 3 counts (min,max):0 4\n",
      "6759 3 counts (min,max):0 4\n",
      "6758 3 counts (min,max):0 4\n",
      "6945 3 counts (min,max):0 4\n",
      "6984 3 counts (min,max):0 4\n",
      "5880 3 counts (min,max):0 4\n",
      "5869 3 counts (min,max):0 4\n",
      "5847 3 counts (min,max):0 4\n",
      "5859 3 counts (min,max):0 4\n",
      "5858 3 counts (min,max):0 4\n",
      "6247 3 counts (min,max):0 4\n",
      "5892 3 counts (min,max):0 4\n",
      "6248 3 counts (min,max):0 4\n",
      "7441 4 counts (min,max):0 5\n",
      "7430 4 counts (min,max):0 5\n",
      "7405 4 counts (min,max):0 5\n",
      "7403 4 counts (min,max):0 5\n",
      "7418 4 counts (min,max):0 5\n",
      "7404 4 counts (min,max):0 5\n",
      "7454 4 counts (min,max):0 5\n",
      "7417 4 counts (min,max):0 5\n",
      "8507 4 counts (min,max):0 5\n",
      "8544 4 counts (min,max):0 5\n",
      "7816 4 counts (min,max):0 5\n",
      "7817 4 counts (min,max):0 5\n",
      "7429 4 counts (min,max):0 5\n",
      "7402 4 counts (min,max):0 5\n",
      "7416 4 counts (min,max):0 5\n",
      "7427 4 counts (min,max):0 5\n",
      "7800 4 counts (min,max):0 5\n",
      "7814 4 counts (min,max):0 5\n",
      "7809 4 counts (min,max):0 5\n",
      "8991 5 counts (min,max):0 6\n",
      "8982 5 counts (min,max):0 6\n",
      "8992 5 counts (min,max):0 6\n",
      "8980 5 counts (min,max):0 6\n",
      "8981 5 counts (min,max):0 6\n",
      "8956 5 counts (min,max):0 6\n",
      "8958 5 counts (min,max):0 6\n",
      "8957 5 counts (min,max):0 6\n",
      "8968 5 counts (min,max):0 6\n",
      "9005 5 counts (min,max):0 6\n",
      "8967 5 counts (min,max):0 6\n",
      "9374 5 counts (min,max):0 6\n",
      "8978 5 counts (min,max):0 6\n",
      "9375 5 counts (min,max):0 6\n",
      "9371 5 counts (min,max):0 6\n",
      "8954 5 counts (min,max):0 6\n",
      "8948 5 counts (min,max):0 6\n",
      "8955 5 counts (min,max):0 6\n",
      "8965 5 counts (min,max):0 6\n",
      "8966 5 counts (min,max):0 6\n",
      "8977 5 counts (min,max):0 6\n",
      "9372 5 counts (min,max):0 6\n",
      "10556 6 counts (min,max):0 6\n",
      "10544 6 counts (min,max):0 7\n",
      "10519 6 counts (min,max):0 7\n",
      "10511 6 counts (min,max):0 7\n",
      "10520 6 counts (min,max):0 7\n",
      "10518 6 counts (min,max):0 7\n",
      "10531 6 counts (min,max):0 7\n",
      "10530 6 counts (min,max):0 7\n",
      "11633 6 counts (min,max):0 7\n",
      "10948 6 counts (min,max):0 7\n",
      "10947 6 counts (min,max):0 7\n",
      "10542 6 counts (min,max):0 7\n",
      "10944 6 counts (min,max):0 7\n",
      "10939 6 counts (min,max):0 7\n",
      "10517 6 counts (min,max):0 7\n",
      "10509 6 counts (min,max):0 7\n",
      "10529 6 counts (min,max):0 7\n",
      "10541 6 counts (min,max):0 7\n",
      "10942 6 counts (min,max):0 7\n",
      "10945 6 counts (min,max):0 7\n",
      "10930 6 counts (min,max):0 7\n",
      "Warning: LRG: 63367/318202 objects have more than 1 assignment for realization 1\n",
      "counts (min,max):0 7\n",
      "Int32[0, 3, 1, 2, 5, 4, 6, 7]\n",
      "2022-01-18T14:23:56.433 written: 318202/Users/shadab/Documents/Projects/MockFBA/mocks/FITS_FBA/FBA_ph000/tmp/SGC_LRG_zone_8.fits.gz\n",
      "Finished"
     ]
    }
   ],
   "source": [
    "\"\"\"applly partitions and return indices\n",
    "nobj::Integer Numbe of objects needs to be divided \n",
    "npartition::Integer number of partitions needed\n",
    "mypart: The partition needs to be selected should be between 0 and npartition-1\n",
    "\"\"\"\n",
    "function partition_indices(nobj,npartition,mypart)\n",
    "    @assert ((mypart<npartition) & (mypart>=0)) \"Selected partion $(mypart) is not in the range 0-$(npartition-1)\"\n",
    "    #How many should I execute\n",
    "    nobj_per_part= Int(floor(nobj/npartition))\n",
    "    \n",
    "    if(nobj_per_part==0)\n",
    "        println(\"Too many partition asked for, setting one object per partition,>$(nobj) partiitons will be empty \")\n",
    "        nobj_per_part=1\n",
    "        if(mypart<nobj)\n",
    "            beg_index=mypart+nobj_per_part\n",
    "            end_index=minimum([beg_index,nobj])\n",
    "        else\n",
    "            beg_index=1\n",
    "            end_index=0\n",
    "        end\n",
    "    else\n",
    "        #The indices of tiles I will execute\n",
    "        beg_index=(mypart*nobj_per_part)+1\n",
    "        end_index=minimum([beg_index+nobj_per_part-1,nobj])\n",
    "        if(mypart==npartition-1)\n",
    "            end_index=nobj\n",
    "        end\n",
    "    end\n",
    "    \n",
    "    return beg_index,end_index\n",
    "end\n",
    "\n",
    "\"\"\"\n",
    "Loads all the tiles as per config file and generate a tileid to pass map\n",
    "\"\"\"\n",
    "function map_TILEID2PASS(config)\n",
    "    #load all the files load tiles from all the pass\n",
    "    tiles_dic=MockFBA.load_DESI_tiles(config[\"TILES\"][\"tile_file\"],config[\"TILES\"][\"PROGRAM\"],\n",
    "                  nothing,config[\"sky\"])\n",
    "    tiles_pass=Dict{Integer,Integer}()\n",
    "    \n",
    "    for ii in 1:size(tiles_dic[\"TILEID\"],1)\n",
    "        tiles_pass[tiles_dic[\"TILEID\"][ii]]=tiles_dic[\"PASS\"][ii]\n",
    "    end\n",
    "        \n",
    "    return tiles_pass\n",
    "end\n",
    "\n",
    "\"\"\"For each zone and each and given tracer writes the fits file including FBA information\n",
    "config: input config dictionary loaded from config file\n",
    "tracer: One of the tracer in the targets categories\n",
    "group: The overall group we are working with this should be consistent among all the steps\n",
    "mypart: which partition of the zones needs to be executed\n",
    "npart_zone: How many partition we want for zones, ech partition we work in parallell cpu\n",
    "columns: The list of columns tow write apart from FBA related output read from tile files\n",
    "nbit_pack: How many bits to pack together, the code works for 64 or 32 but FITSIO library can-not write\n",
    "UInt64 and hence only 32 will work at the moment.\n",
    "\"\"\"\n",
    "function PostFBA_JLD2FITS(config,tracer,group,mypart_zone,npart_zone,;\n",
    "        columns=[\"RA\",\"DEC\",\"FITS_index\"],nbit_pack=32)\n",
    "    #= for the group in config file\n",
    "    scan alls the zones and write them to fits including the FBA info from tile file\n",
    "    =#\n",
    "    \n",
    "    @assert ((nbit_pack==32) || (nbit_pack==64)) \"Invalid bitpacking size $(nbit_pack), must be 32 or 64\"\n",
    "\n",
    "    jldfile=config[\"target\"][tracer][\"JLDfile\"]\n",
    "    group=config[\"group\"]\n",
    "    num_fba=config[\"NumFBARealization\"]\n",
    "    \n",
    "    \n",
    "    #file=jldopen(jldfile,\"r\")\n",
    "    #@show keys(file[group][\"zone_77\"])\n",
    "    #close(file)\n",
    "    #return\n",
    "    #load the zones in group\n",
    "    jld_order=MockFBA.traverse_group(jldfile,group)\n",
    "    \n",
    "    nzone=size(jld_order[\"zone_order\"],1)\n",
    "    izone_min,izone_max=MockFBA.partition_indices(nzone,npart_zone,mypart_zone)\n",
    "    \n",
    "    #load the listing to identify the zones which has tile\n",
    "    listing=load(jldfile,\"$(group)/listing\")\n",
    "\n",
    "    #maximum number of objects among the zones of interest\n",
    "    max_nobj=maximum(jld_order[\"nobj\"][izone_min:izone_max])\n",
    "    \n",
    "    #declare array to store info to be written\n",
    "    tracer_targets=Dict{String,Array}(\"RA\"=>zeros(Float32,max_nobj),\"DEC\"=>zeros(Float32,max_nobj))\n",
    "    for col in columns\n",
    "        if(col in [\"FITS_index\",\"TILEID\"])\n",
    "            tracer_targets[col]=zeros(Int64,max_nobj)\n",
    "        else\n",
    "            tracer_targets[col]=zeros(Float32,max_nobj)\n",
    "        end\n",
    "    end\n",
    "\n",
    "    #FBA related quantities\n",
    "    tracer_targets[\"FBA_PASS_R1\"]=zeros(Int8,max_nobj) .-1\n",
    "    tracer_targets[\"FBA_LOCATION_R1\"]=zeros(Int16,max_nobj)\n",
    "    \n",
    "    #additionally we need to load the group index to match the object in FBA\n",
    "    tracer_targets[\"index_group\"]=zeros(Int64,max_nobj)\n",
    "    #To keep a count of how many times and object is assigned for R1, THis is for sanity checks\n",
    "    tracer_targets[\"Count_R1\"]=zeros(Int32,max_nobj)\n",
    "    \n",
    "    #number of bitweights are needed given fba and packing rate\n",
    "    nbitweight=Int(floor(num_fba/nbit_pack))\n",
    "    if(nbitweight*nbit_pack<num_fba)\n",
    "        println(\"Warning: Want to pack $(num_fba) bits in $(nbit_pack), will use only first $(nbitweight*nbit_pack)\")\n",
    "        println(\"Warning: Ignoring the last $(num_fba-(nbitweight*nbit_pack)) realizations\")\n",
    "    end\n",
    "    \n",
    "    for ii in 1:nbitweight\n",
    "        if(nbit_pack==32)\n",
    "            tracer_targets[\"FBA_BITS$(ii)\"]=zeros(UInt32,max_nobj)\n",
    "        else\n",
    "            tracer_targets[\"FBA_BITS$(ii)\"]=zeros(UInt64,max_nobj)\n",
    "        end\n",
    "    end\n",
    "    \n",
    "    #generate and tileif 2d passs maps\n",
    "    tiles_pass=map_TILEID2PASS(config)\n",
    "    \n",
    "    @show izone_min,izone_max, max_nobj\n",
    "    \n",
    "    for iz in izone_min:izone_max\n",
    "        fill!(tracer_targets[\"FBA_PASS_R1\"],-1)\n",
    "        fill!(tracer_targets[\"FBA_LOCATION_R1\"],-1)\n",
    "        \n",
    "        #check the number of tiles in the zone \n",
    "        #if it is one with tileid=0 mean none of the tiles in zone and hence skip\n",
    "        if(listing[\"TILEID\"][iz]==[0])\n",
    "            println(\"Warning: No tile in zone $(iz), skipping\")\n",
    "            continue\n",
    "        end\n",
    "        \n",
    "        \n",
    "        #Number of objects in this zone\n",
    "        nobj_zone=jld_order[\"nobj\"][iz]\n",
    "        \n",
    "        #poiting to the group in the file for this zone\n",
    "        tg=jld_order[\"zone_order\"][iz]\n",
    "\n",
    "        zone_imin=jld_order[\"beg_index\"][iz]\n",
    "        zone_imax=zone_imin+jld_order[\"nobj\"][iz]-1\n",
    "        zone_nobj=jld_order[\"nobj\"][iz]\n",
    "        \n",
    "        \n",
    "        #indices of objects in the zone\n",
    "        tracer_targets[\"index_group\"][1:nobj_zone] .= collect(zone_imin:zone_imax)\n",
    "        \n",
    "        \n",
    "        #collect different columns directly available in JLD2 zones file\n",
    "        for col in columns\n",
    "            #get the columns based on the need\n",
    "            #tval=load(jldfile,\"$(tg)$(col)\")\n",
    "            tracer_targets[col][1:nobj_zone] .= load(jldfile,\"$(tg)$(col)\")\n",
    "            \n",
    "            #if(col in keys(tracer_targets))\n",
    "            #    tracer_targets[col]=[tracer_targets[col];tval]\n",
    "            #else\n",
    "            #    tracer_targets[col][1:nobj_zone]=tval\n",
    "            #end\n",
    "        end\n",
    "        \n",
    "        #collect the columns from FBA procedure by reading the tile files\n",
    "        fill_FBA_results!(config,tiles_pass,tracer,listing[\"TILEID\"][iz],tracer_targets,nobj_zone,\n",
    "            num_fba,nbitweight,nbit_pack) \n",
    "        \n",
    "        \n",
    "        \n",
    "        #columns to write\n",
    "        col_write=[]\n",
    "        array_write=[]\n",
    "        tmp_dic=Dict{String,Array}()\n",
    "        for col in keys(tracer_targets)\n",
    "            #if(col in [\"index_group\",\"Count_R1\"]) #columns to skip\n",
    "            #    continue\n",
    "            #end\n",
    "            #append!(col_write,[col])\n",
    "            #append!(array_write,view(tracer_targets[col],1:nobj_zone))\n",
    "            #println(col,nobj_zone,size(tracer_targets[col]))\n",
    "            tmp_dic[col]=view(tracer_targets[col],1:nobj_zone)\n",
    "        end\n",
    "        \n",
    "        #fits file to write this zone \n",
    "        outfits=MockFBA.ZoneFITS_FileName(config,iz,tracer,group)\n",
    "        FITS(outfits,\"w\") do fout\n",
    "            #write(fout,tracer_targets)\n",
    "            #write(fout,col_write,array_write)\n",
    "            write(fout,tmp_dic) #Here we write to the fits file\n",
    "        end\n",
    "        println(now(UTC),\" written: $(nobj_zone)\",outfits)\n",
    "        #break\n",
    "\n",
    "    end #end of the iz loop\n",
    "    \n",
    "    \n",
    "    return tracer_targets\n",
    "end\n",
    "    \n",
    "    \n",
    "function fill_FBA_results!(config,tiles_pass,tracer,tile_list,tracer_targets,nobj_zone,\n",
    "            num_fba,nbitweight,nbit_pack)    \n",
    "    #index to sort the objects in tile by index field\n",
    "    zone_isort=sortperm(tracer_targets[\"index_group\"][1:nobj_zone])\n",
    "    \n",
    "    #To account for how many times an object is assigned for realization 1\n",
    "    fill!(tracer_targets[\"Count_R1\"],0)\n",
    "\n",
    "    for tile_id in tile_list\n",
    "        if(tile_id==0) #Not an actuall tile used to fill values\n",
    "            continue\n",
    "        end\n",
    "        #FBA jldfile for the tile\n",
    "        fba_jldfile=MockFBA.TileFBA_FileName(config,tile_id)\n",
    "\n",
    "        index_pre_tile=load(fba_jldfile,\"$(tracer)_index\")\n",
    "        bool_ass=load(fba_jldfile,\"$(tracer)_Bool_ass\")\n",
    "        location_ass=load(fba_jldfile,\"$(tracer)_location_ass\")\n",
    "        \n",
    "        #make sure the tile was assigned with consistent num_fba\n",
    "        @assert num_fba==size(bool_ass,2) \"inconsistent num_fba \\nfor tile: $(col_tile) in $(fba_jldfile)\"\n",
    "\n",
    "        #find the sorting permutation\n",
    "        isort_perm=sortperm(index_pre_tile)\n",
    "\n",
    "        #rearrange with sorted index for this tile\n",
    "        index_pre_tile=index_pre_tile[isort_perm]\n",
    "        bool_ass=bool_ass[isort_perm,:]\n",
    "        location_ass=location_ass[isort_perm,:]\n",
    "        \n",
    "        #find the pass for this tile\n",
    "        #@show tile_id, tiles_pass[tile_id]\n",
    "        tile_pass=tiles_pass[tile_id]\n",
    "\n",
    "        #append the info from FBA #follow the logic of sorted indices\n",
    "        ctile=1\n",
    "        for ti in 1:size(index_pre_tile,1)\n",
    "            while(index_pre_tile[ti]>tracer_targets[\"index_group\"][zone_isort[ctile]])\n",
    "                ctile +=1\n",
    "                if(ctile>nobj_zone)\n",
    "                    break\n",
    "                end\n",
    "            end\n",
    "\n",
    "            if(ctile>nobj_zone)\n",
    "                break\n",
    "            end\n",
    "\n",
    "            if(index_pre_tile[ti]==tracer_targets[\"index_group\"][zone_isort[ctile]])\n",
    "                ind_zone=zone_isort[ctile]\n",
    "                \n",
    "                \n",
    "                #Now fill the needed information for first realization\n",
    "                if(bool_ass[ti,1]==true)\n",
    "                    #println(ti,' ',ctile,' ',ind_zone,' ',tile_pass)\n",
    "                    #track the counts for first realization\n",
    "                    #println(typeof(ind_zone),typeof(tracer_targets[\"index_group\"]))\n",
    "                    tracer_targets[\"Count_R1\"][ind_zone] +=1\n",
    "                    tracer_targets[\"FBA_PASS_R1\"][ind_zone]= tile_pass\n",
    "                    tracer_targets[\"FBA_LOCATION_R1\"][ind_zone]=location_ass[ti,1]\n",
    "                end\n",
    "                #Now fill the FBA_BITS\n",
    "                PackBITS!(nbitweight,nbit_pack,bool_ass[ti,:],tracer_targets,ind_zone)\n",
    "            end\n",
    "        end\n",
    "        println(tile_id,' ',tile_pass,\" counts (min,max):\",minimum(tracer_targets[\"Count_R1\"]),' ',maximum(tracer_targets[\"Count_R1\"]))\n",
    "        #break\n",
    "    \n",
    "    end\n",
    "    #Sanity checks\n",
    "     \n",
    "    if(maximum(tracer_targets[\"Count_R1\"]) > config[\"target\"][tracer][\"Num_obs\"])\n",
    "        nmore=size(findall(tracer_targets[\"Count_R1\"] .> config[\"target\"][tracer][\"Num_obs\"]),1)\n",
    "        msg_warn=\"$(tracer): $(nmore)/$(nobj_zone) objects have more than $(config[\"target\"][tracer][\"Num_obs\"]) assignment for realization 1\"\n",
    "        println(\"Warning: $(msg_warn)\")\n",
    "    end\n",
    "    println(\"counts (min,max):\",minimum(tracer_targets[\"Count_R1\"]),' ',maximum(tracer_targets[\"Count_R1\"]))\n",
    "    println(unique(tracer_targets[\"Count_R1\"]))\n",
    "end\n",
    "\n",
    "\"\"\"Converts and array of boolean to UInt64 representation\n",
    "example: value_out =UInt64(0)\n",
    "bool_in=ones(Bool,32)\n",
    "bool_in[1]=false #[false,false,false]#tar[1,1:4]\n",
    "#@show value_out\n",
    "value_out=Bool2UInt(bool_in,value_out)\n",
    "@show bool_in\n",
    "@show value_out,typeof(value_out)\n",
    "@show bitstring(value_out)\n",
    "\"\"\"\n",
    "function Bool2UInt(bool_in,value_out::UInt64)\n",
    "    #@show value_out\n",
    "    value_out=UInt64(0)\n",
    "    for ii in 1:size(bool_in,1)\n",
    "        if(bool_in[ii])\n",
    "            value_out += UInt64(2)^(ii-1)\n",
    "            #println(ii,' ',value_out,' ',typeof(value_out))\n",
    "        end\n",
    "    end\n",
    "    return value_out\n",
    "end\n",
    "\n",
    "\"\"\"Converts and array of boolean to UInt32 representation\n",
    "example:\n",
    "value_out =UInt32(0)\n",
    "bool_in=ones(Bool,32)\n",
    "bool_in[1]=false #[false,false,false]#tar[1,1:4]\n",
    "#@show value_out\n",
    "value_out=Bool2UInt(bool_in,value_out)\n",
    "@show bool_in\n",
    "@show value_out,typeof(value_out)\n",
    "@show bitstring(value_out)\n",
    "\"\"\"\n",
    "function Bool2UInt(bool_in,value_out::UInt32)\n",
    "    value_out=UInt32(0)\n",
    "    #@show value_out\n",
    "    for ii in 1:size(bool_in,1)\n",
    "        if(bool_in[ii])\n",
    "            value_out += UInt32(2)^(ii-1)\n",
    "            #println(ii,' ',value_out,' ',typeof(value_out))\n",
    "        end\n",
    "    end\n",
    "    return value_out\n",
    "end\n",
    "\n",
    "\"\"\"\n",
    "Transfers the bollean array to array of UInt32 or UInt64\n",
    "nbitweight: Number of bitweights columns\n",
    "nbit_pack: 32 or 64 the unitsize of packing\n",
    "bool_in: Input boolean array of atleast nbitweight*nbit_pack size\n",
    "pack_out: output array of size nbitweight and type UInt32 or UInt64 based on nbit_pack\n",
    "\"\"\"\n",
    "function PackBITS!(nbitweight,nbit_pack,bool_in,tracer_targets,ind_zone)\n",
    "    for ii in 1:nbitweight\n",
    "        imin=((ii-1)*nbit_pack)+1\n",
    "        imax=imin+nbit_pack-1\n",
    "        tracer_targets[\"FBA_BITS$(ii)\"][ind_zone]=Bool2UInt(bool_in[imin:imax],\n",
    "            tracer_targets[\"FBA_BITS$(ii)\"][ind_zone])\n",
    "        #println(ii,' ',bool_in[imin:imax])\n",
    "        #println(bitstring(pack_out[ii]))\n",
    "    end\n",
    "end\n",
    "\n",
    "tracer=\"LRG\"\n",
    "group=\"SGC\"\n",
    "mypart_zone=0\n",
    "npart_zone=3\n",
    "#tdic=PostFBA_JLD2FITS(config,tracer;columns=[\"RA\",\"DEC\",\"BITWEIGHT\",\"POS_LOCATION\"])\n",
    "PostFBA_JLD2FITS(config,tracer,group,mypart_zone,npart_zone,;columns=[\"RA\",\"DEC\",\"FITS_index\",\n",
    "        \"TILEID_PASS0\",\"TILEID_PASS1\",\"TILEID_PASS2\",\"TILEID_PASS3\",\"TILEID_PASS4\",\"TILEID_PASS5\",\n",
    "        \"TILEID_PASS6\"])\n",
    "\n",
    "#@show partition_indices(11,5,4)\n",
    "\n",
    "#=\n",
    "nbit_pack=32\n",
    "nbitweight=3\n",
    "bool_in=tar[2,:]\n",
    "pack_out=zeros(UInt32,nbitweight)\n",
    "PackBITS!(nbitweight,nbit_pack,bool_in,pack_out)\n",
    "\n",
    "for ii in 1:size(pack_out,1)\n",
    "    println(\"out \",ii,' ',bitstring(pack_out[ii]))\n",
    "end\n",
    "=#\n",
    "\n",
    "print(\"Finished\")"
   ]
  },
  {
   "cell_type": "code",
   "execution_count": 259,
   "id": "fa49b99b",
   "metadata": {},
   "outputs": [
    {
     "name": "stdout",
     "output_type": "stream",
     "text": [
      "tdic = Dict(\"tarr\" => [0.364997451177828, 0.17813350344007983, 0.6352526708869001, 0.7356833170513722, 0.8191066276970774, 0.5647877182438021, 0.37029384063322757, 0.5740863739465919, 0.8230187009092134, 0.9273636875789549])\n",
      "isort_p = [2, 1, 7, 6, 8, 3, 4, 5, 9, 10]\n",
      "(\"bef: \", repr(UInt64(pointer_from_objref(tdic[\"tarr\"])))) = (\"bef: \", \"0x000000018f00c400\")\n",
      "(\"aft: \", repr(UInt64(pointer_from_objref(tdic[\"tarr\"])))) = (\"aft: \", \"0x000000018f00c400\")\n",
      "tdic[\"tarr\"] = [0.17813350344007983, 0.364997451177828, 0.37029384063322757, 0.5647877182438021, 0.5740863739465919, 0.6352526708869001, 0.7356833170513722, 0.8191066276970774, 0.8230187009092134, 0.9273636875789549]\n",
      "false true\n"
     ]
    }
   ],
   "source": [
    "tdic=Dict(\"tarr\"=> rand(10))\n",
    "@show tdic\n",
    "isort_p=sortperm(tdic[\"tarr\"])\n",
    "@show isort_p\n",
    "@show \"bef: \",repr(UInt64(pointer_from_objref(tdic[\"tarr\"])))\n",
    "tdic[\"tarr\"] .= tdic[\"tarr\"][isort_p]\n",
    "@show \"aft: \",repr(UInt64(pointer_from_objref(tdic[\"tarr\"])))\n",
    "@show tdic[\"tarr\"]\n",
    "println(tarr isa Matrix,' ',tarr isa Array)"
   ]
  },
  {
   "cell_type": "markdown",
   "id": "b28b795f",
   "metadata": {},
   "source": [
    "# To process a pass"
   ]
  },
  {
   "cell_type": "code",
   "execution_count": 204,
   "id": "13320c56",
   "metadata": {},
   "outputs": [
    {
     "name": "stderr",
     "output_type": "stream",
     "text": [
      "\u001b[32m\u001b[1m    Updating\u001b[22m\u001b[39m registry at `~/.julia/registries/General.toml`\n",
      "\u001b[32m\u001b[1m   Resolving\u001b[22m\u001b[39m package versions...\n",
      "\u001b[32m\u001b[1m    Updating\u001b[22m\u001b[39m `~/Documents/Projects/MockFBA/Project.toml`\n",
      " \u001b[90m [864edb3b] \u001b[39m\u001b[92m+ DataStructures v0.18.11\u001b[39m\n",
      "\u001b[32m\u001b[1m  No Changes\u001b[22m\u001b[39m to `~/Documents/Projects/MockFBA/Manifest.toml`\n"
     ]
    }
   ],
   "source": [
    "import Pkg; Pkg.add(\"DataStructures\")\n",
    "using DataStructures"
   ]
  },
  {
   "cell_type": "code",
   "execution_count": 162,
   "id": "4862d610",
   "metadata": {},
   "outputs": [],
   "source": [
    "outfits=\"test.fits\"\n",
    "tdic=Dict{String,Array}()\n",
    "tdic[\"RA\"]=zeros(Float32,10)\n",
    "tdic[\"FBA_BITS\"]=zeros(UInt32,10,5)\n",
    "FITS(outfits,\"w\") do fout\n",
    "    write(fout,tdic)\n",
    "end"
   ]
  },
  {
   "cell_type": "code",
   "execution_count": 10,
   "id": "d06866d2",
   "metadata": {},
   "outputs": [
    {
     "data": {
      "text/plain": [
       "Dict{Any, Any} with 3 entries:\n",
       "  \"beg_index\"  => Any[1, 44668, 103732, 161060, 189933, 200647, 232136, 267555,…\n",
       "  \"nobj\"       => Any[44667, 59064, 57328, 28873, 10714, 31489, 35419, 131670, …\n",
       "  \"zone_order\" => Any[\"SGC/zone_77/\", \"SGC/zone_78/\", \"SGC/zone_79/\", \"SGC/zone…"
      ]
     },
     "execution_count": 10,
     "metadata": {},
     "output_type": "execute_result"
    }
   ],
   "source": [
    "jldfile=config[\"target\"][tracer][\"JLDfile\"]\n",
    "group=config[\"group\"]\n",
    "    \n",
    "#load the zones in group\n",
    "jld_order=MockFBA.traverse_group(jldfile,group)"
   ]
  },
  {
   "cell_type": "code",
   "execution_count": 26,
   "id": "f2750aa5",
   "metadata": {},
   "outputs": [
    {
     "name": "stdout",
     "output_type": "stream",
     "text": [
      "iz= 5\n",
      "5 1 10714\n",
      "iz= 16\n",
      "16 1 122983\n",
      "20 9 124128\n",
      "12 65 71602\n",
      "24 3 13911\n",
      "8 150 131670\n",
      "iz= 17\n",
      "17 1 10146\n",
      "1 2 44667\n",
      "19 12 103687\n",
      "22 2 15211\n",
      "23 3 3143\n",
      "iz= 6\n",
      "6 1 31489\n",
      "11 43 50567\n",
      "9 146 131747\n",
      "14 149 131568\n",
      "iz= 3\n",
      "3 1 57328\n",
      "iz= 7\n",
      "7 1 35419\n",
      "iz= 4\n",
      "4 1 28873\n",
      "13 132 132536\n",
      "15 5 124203\n",
      "iz= 2\n",
      "2 1 59064\n",
      "10 64 85994\n",
      "18 3 11335\n",
      "iz= 21\n",
      "21 1 13932\n"
     ]
    }
   ],
   "source": [
    "listing=load(jldfile,\"$(group)/listing\")\n",
    "for iz in keys(listing[\"TILEID\"])\n",
    "    if(listing[\"TILEID\"][iz]==[0])\n",
    "        println(\"iz= \",iz)\n",
    "    end\n",
    "    println(iz, ' ',length(listing[\"TILEID\"][iz]),' ',jld_order[\"nobj\"][iz])\n",
    "end"
   ]
  },
  {
   "cell_type": "code",
   "execution_count": 6,
   "id": "45bee262",
   "metadata": {},
   "outputs": [
    {
     "name": "stdout",
     "output_type": "stream",
     "text": [
      "2022-01-13T16:44:25.737 TILEID:1700 full:12.701 sec(Prepare:0.138 sec,Assignment:9.613 sec,Output:2.95 sec,)\n",
      "2022-01-13T16:44:30.549 TILEID:1701 full:4.776 sec(Prepare:0.061 sec,Assignment:4.591 sec,Output:0.124 sec,)\n",
      "2022-01-13T16:44:35.220 TILEID:1706 full:4.671 sec(Prepare:0.066 sec,Assignment:4.434 sec,Output:0.171 sec,)\n"
     ]
    }
   ],
   "source": [
    "tile_index_arr=[39,40,41]\n",
    "MockFBA.Run_Many_Tile(config,tile_index_arr,tiles_dic;tile_date=\"2019-09-16T00:00:00\",\n",
    "    plate_scale=nothing,fp_dic=nothing,exc_dic=nothing,verbose=2)"
   ]
  },
  {
   "cell_type": "code",
   "execution_count": 38,
   "id": "b9483832",
   "metadata": {},
   "outputs": [
    {
     "ename": "LoadError",
     "evalue": "MethodError: no method matching append!(::Matrix{Bool}, ::Matrix{Bool})\n\u001b[0mClosest candidates are:\n\u001b[0m  append!(\u001b[91m::SentinelArrays.ChainedVector{T, A} where A<:AbstractVector{T}\u001b[39m, ::Any) where T at ~/.julia/packages/SentinelArrays/PnQnF/src/chainedvector.jl:608\n\u001b[0m  append!(\u001b[91m::PooledArrays.PooledVector\u001b[39m, ::AbstractArray) at ~/.julia/packages/PooledArrays/DuIZ1/src/PooledArrays.jl:607\n\u001b[0m  append!(\u001b[91m::DataInterpolations.LinearInterpolation{U, T}\u001b[39m, ::U, \u001b[91m::T\u001b[39m) where {U, T} at ~/.julia/packages/DataInterpolations/nPkB0/src/online.jl:21\n\u001b[0m  ...",
     "output_type": "error",
     "traceback": [
      "MethodError: no method matching append!(::Matrix{Bool}, ::Matrix{Bool})\n\u001b[0mClosest candidates are:\n\u001b[0m  append!(\u001b[91m::SentinelArrays.ChainedVector{T, A} where A<:AbstractVector{T}\u001b[39m, ::Any) where T at ~/.julia/packages/SentinelArrays/PnQnF/src/chainedvector.jl:608\n\u001b[0m  append!(\u001b[91m::PooledArrays.PooledVector\u001b[39m, ::AbstractArray) at ~/.julia/packages/PooledArrays/DuIZ1/src/PooledArrays.jl:607\n\u001b[0m  append!(\u001b[91m::DataInterpolations.LinearInterpolation{U, T}\u001b[39m, ::U, \u001b[91m::T\u001b[39m) where {U, T} at ~/.julia/packages/DataInterpolations/nPkB0/src/online.jl:21\n\u001b[0m  ...",
      "",
      "Stacktrace:",
      " [1] top-level scope",
      "   @ In[38]:1",
      " [2] eval",
      "   @ ./boot.jl:373 [inlined]",
      " [3] include_string(mapexpr::typeof(REPL.softscope), mod::Module, code::String, filename::String)",
      "   @ Base ./loading.jl:1196"
     ]
    }
   ],
   "source": [
    "append!(zeros(Bool,0,1),ones(Bool,3,1))"
   ]
  },
  {
   "cell_type": "code",
   "execution_count": 17,
   "id": "fc625509",
   "metadata": {},
   "outputs": [
    {
     "ename": "LoadError",
     "evalue": "UndefVarError: Prepare_tile not defined",
     "output_type": "error",
     "traceback": [
      "UndefVarError: Prepare_tile not defined",
      "",
      "Stacktrace:",
      " [1] top-level scope",
      "   @ In[17]:1",
      " [2] eval",
      "   @ ./boot.jl:373 [inlined]",
      " [3] include_string(mapexpr::typeof(REPL.softscope), mod::Module, code::String, filename::String)",
      "   @ Base ./loading.jl:1196"
     ]
    }
   ],
   "source": [
    "targets_dic,fp_dic,exc_dic=Prepare_tile(config,tile_index,tiles_dic;tile_date=\"2019-09-16T00:00:00\",\n",
    "        plate_scale=nothing,fp_dic=nothing,exc_dic=nothing)"
   ]
  },
  {
   "cell_type": "code",
   "execution_count": 13,
   "id": "ae788197",
   "metadata": {},
   "outputs": [
    {
     "data": {
      "text/latex": [
       "No documentation found.\n",
       "\n",
       "Binding \\texttt{Main.MockFBA.Prepare\\_tile} does not exist.\n",
       "\n"
      ],
      "text/markdown": [
       "No documentation found.\n",
       "\n",
       "Binding `Main.MockFBA.Prepare_tile` does not exist.\n"
      ],
      "text/plain": [
       "  No documentation found.\n",
       "\n",
       "  Binding \u001b[36mMain.MockFBA.Prepare_tile\u001b[39m does not exist."
      ]
     },
     "execution_count": 13,
     "metadata": {},
     "output_type": "execute_result"
    }
   ],
   "source": [
    "?MockFBA.Prepare_tile"
   ]
  },
  {
   "cell_type": "code",
   "execution_count": 7,
   "id": "c4255a30",
   "metadata": {},
   "outputs": [
    {
     "data": {
      "text/latex": [
       "Runs the assignment for a given tile num\\emph{fba: number of fba realization to generate max}vertices maximum number of vertices any of the positioner polygon can have max\\emph{ngb}pos: maximum number of negibohuring positioner any positioner can have\n",
       "\n"
      ],
      "text/markdown": [
       "Runs the assignment for a given tile num*fba: number of fba realization to generate max*vertices maximum number of vertices any of the positioner polygon can have max*ngb*pos: maximum number of negibohuring positioner any positioner can have\n"
      ],
      "text/plain": [
       "  Runs the assignment for a given tile num\u001b[4mfba: number of fba realization to\n",
       "  generate max\u001b[24mvertices maximum number of vertices any of the positioner\n",
       "  polygon can have max\u001b[4mngb\u001b[24mpos: maximum number of negibohuring positioner any\n",
       "  positioner can have"
      ]
     },
     "execution_count": 7,
     "metadata": {},
     "output_type": "execute_result"
    }
   ],
   "source": [
    "?MockFBA.Assign_Tile"
   ]
  },
  {
   "cell_type": "code",
   "execution_count": 8,
   "id": "c4f1d313",
   "metadata": {},
   "outputs": [
    {
     "name": "stdout",
     "output_type": "stream",
     "text": [
      "1\n",
      "3\n",
      "5\n"
     ]
    }
   ],
   "source": [
    "for ii in 1:2:6\n",
    "    println(ii)\n",
    "end"
   ]
  },
  {
   "cell_type": "code",
   "execution_count": 12,
   "id": "a5c0a9d7",
   "metadata": {},
   "outputs": [
    {
     "data": {
      "image/svg+xml": [
       "<?xml version=\"1.0\" encoding=\"utf-8\"?>\n",
       "<svg xmlns=\"http://www.w3.org/2000/svg\" xmlns:xlink=\"http://www.w3.org/1999/xlink\" width=\"600\" height=\"400\" viewBox=\"0 0 2400 1600\">\n",
       "<defs>\n",
       "  <clipPath id=\"clip400\">\n",
       "    <rect x=\"0\" y=\"0\" width=\"2400\" height=\"1600\"/>\n",
       "  </clipPath>\n",
       "</defs>\n",
       "<path clip-path=\"url(#clip400)\" d=\"\n",
       "M0 1600 L2400 1600 L2400 0 L0 0  Z\n",
       "  \" fill=\"#ffffff\" fill-rule=\"evenodd\" fill-opacity=\"1\"/>\n",
       "<defs>\n",
       "  <clipPath id=\"clip401\">\n",
       "    <rect x=\"480\" y=\"0\" width=\"1681\" height=\"1600\"/>\n",
       "  </clipPath>\n",
       "</defs>\n",
       "<path clip-path=\"url(#clip400)\" d=\"\n",
       "M147.709 1486.45 L2352.76 1486.45 L2352.76 47.2441 L147.709 47.2441  Z\n",
       "  \" fill=\"#ffffff\" fill-rule=\"evenodd\" fill-opacity=\"1\"/>\n",
       "<defs>\n",
       "  <clipPath id=\"clip402\">\n",
       "    <rect x=\"147\" y=\"47\" width=\"2206\" height=\"1440\"/>\n",
       "  </clipPath>\n",
       "</defs>\n",
       "<polyline clip-path=\"url(#clip402)\" style=\"stroke:#000000; stroke-linecap:butt; stroke-linejoin:round; stroke-width:2; stroke-opacity:0.1; fill:none\" points=\"\n",
       "  207.103,1486.45 207.103,47.2441 \n",
       "  \"/>\n",
       "<polyline clip-path=\"url(#clip402)\" style=\"stroke:#000000; stroke-linecap:butt; stroke-linejoin:round; stroke-width:2; stroke-opacity:0.1; fill:none\" points=\"\n",
       "  786.621,1486.45 786.621,47.2441 \n",
       "  \"/>\n",
       "<polyline clip-path=\"url(#clip402)\" style=\"stroke:#000000; stroke-linecap:butt; stroke-linejoin:round; stroke-width:2; stroke-opacity:0.1; fill:none\" points=\"\n",
       "  1366.14,1486.45 1366.14,47.2441 \n",
       "  \"/>\n",
       "<polyline clip-path=\"url(#clip402)\" style=\"stroke:#000000; stroke-linecap:butt; stroke-linejoin:round; stroke-width:2; stroke-opacity:0.1; fill:none\" points=\"\n",
       "  1945.66,1486.45 1945.66,47.2441 \n",
       "  \"/>\n",
       "<polyline clip-path=\"url(#clip400)\" style=\"stroke:#000000; stroke-linecap:butt; stroke-linejoin:round; stroke-width:4; stroke-opacity:1; fill:none\" points=\"\n",
       "  147.709,1486.45 2352.76,1486.45 \n",
       "  \"/>\n",
       "<polyline clip-path=\"url(#clip400)\" style=\"stroke:#000000; stroke-linecap:butt; stroke-linejoin:round; stroke-width:4; stroke-opacity:1; fill:none\" points=\"\n",
       "  207.103,1486.45 207.103,1467.55 \n",
       "  \"/>\n",
       "<polyline clip-path=\"url(#clip400)\" style=\"stroke:#000000; stroke-linecap:butt; stroke-linejoin:round; stroke-width:4; stroke-opacity:1; fill:none\" points=\"\n",
       "  786.621,1486.45 786.621,1467.55 \n",
       "  \"/>\n",
       "<polyline clip-path=\"url(#clip400)\" style=\"stroke:#000000; stroke-linecap:butt; stroke-linejoin:round; stroke-width:4; stroke-opacity:1; fill:none\" points=\"\n",
       "  1366.14,1486.45 1366.14,1467.55 \n",
       "  \"/>\n",
       "<polyline clip-path=\"url(#clip400)\" style=\"stroke:#000000; stroke-linecap:butt; stroke-linejoin:round; stroke-width:4; stroke-opacity:1; fill:none\" points=\"\n",
       "  1945.66,1486.45 1945.66,1467.55 \n",
       "  \"/>\n",
       "<path clip-path=\"url(#clip400)\" d=\"M207.103 1517.37 Q203.492 1517.37 201.663 1520.93 Q199.858 1524.47 199.858 1531.6 Q199.858 1538.71 201.663 1542.27 Q203.492 1545.82 207.103 1545.82 Q210.737 1545.82 212.543 1542.27 Q214.371 1538.71 214.371 1531.6 Q214.371 1524.47 212.543 1520.93 Q210.737 1517.37 207.103 1517.37 M207.103 1513.66 Q212.913 1513.66 215.969 1518.27 Q219.047 1522.85 219.047 1531.6 Q219.047 1540.33 215.969 1544.94 Q212.913 1549.52 207.103 1549.52 Q201.293 1549.52 198.214 1544.94 Q195.158 1540.33 195.158 1531.6 Q195.158 1522.85 198.214 1518.27 Q201.293 1513.66 207.103 1513.66 Z\" fill=\"#000000\" fill-rule=\"evenodd\" fill-opacity=\"1\" /><path clip-path=\"url(#clip400)\" d=\"M746.228 1544.91 L753.867 1544.91 L753.867 1518.55 L745.556 1520.21 L745.556 1515.95 L753.82 1514.29 L758.496 1514.29 L758.496 1544.91 L766.135 1544.91 L766.135 1548.85 L746.228 1548.85 L746.228 1544.91 Z\" fill=\"#000000\" fill-rule=\"evenodd\" fill-opacity=\"1\" /><path clip-path=\"url(#clip400)\" d=\"M785.579 1517.37 Q781.968 1517.37 780.14 1520.93 Q778.334 1524.47 778.334 1531.6 Q778.334 1538.71 780.14 1542.27 Q781.968 1545.82 785.579 1545.82 Q789.214 1545.82 791.019 1542.27 Q792.848 1538.71 792.848 1531.6 Q792.848 1524.47 791.019 1520.93 Q789.214 1517.37 785.579 1517.37 M785.579 1513.66 Q791.39 1513.66 794.445 1518.27 Q797.524 1522.85 797.524 1531.6 Q797.524 1540.33 794.445 1544.94 Q791.39 1549.52 785.579 1549.52 Q779.769 1549.52 776.691 1544.94 Q773.635 1540.33 773.635 1531.6 Q773.635 1522.85 776.691 1518.27 Q779.769 1513.66 785.579 1513.66 Z\" fill=\"#000000\" fill-rule=\"evenodd\" fill-opacity=\"1\" /><path clip-path=\"url(#clip400)\" d=\"M815.741 1517.37 Q812.13 1517.37 810.301 1520.93 Q808.496 1524.47 808.496 1531.6 Q808.496 1538.71 810.301 1542.27 Q812.13 1545.82 815.741 1545.82 Q819.375 1545.82 821.181 1542.27 Q823.01 1538.71 823.01 1531.6 Q823.01 1524.47 821.181 1520.93 Q819.375 1517.37 815.741 1517.37 M815.741 1513.66 Q821.551 1513.66 824.607 1518.27 Q827.686 1522.85 827.686 1531.6 Q827.686 1540.33 824.607 1544.94 Q821.551 1549.52 815.741 1549.52 Q809.931 1549.52 806.852 1544.94 Q803.797 1540.33 803.797 1531.6 Q803.797 1522.85 806.852 1518.27 Q809.931 1513.66 815.741 1513.66 Z\" fill=\"#000000\" fill-rule=\"evenodd\" fill-opacity=\"1\" /><path clip-path=\"url(#clip400)\" d=\"M1329.83 1544.91 L1346.15 1544.91 L1346.15 1548.85 L1324.21 1548.85 L1324.21 1544.91 Q1326.87 1542.16 1331.45 1537.53 Q1336.06 1532.88 1337.24 1531.53 Q1339.48 1529.01 1340.36 1527.27 Q1341.27 1525.51 1341.27 1523.82 Q1341.27 1521.07 1339.32 1519.33 Q1337.4 1517.6 1334.3 1517.6 Q1332.1 1517.6 1329.65 1518.36 Q1327.22 1519.13 1324.44 1520.68 L1324.44 1515.95 Q1327.26 1514.82 1329.72 1514.24 Q1332.17 1513.66 1334.21 1513.66 Q1339.58 1513.66 1342.77 1516.35 Q1345.97 1519.03 1345.97 1523.52 Q1345.97 1525.65 1345.16 1527.57 Q1344.37 1529.47 1342.26 1532.07 Q1341.68 1532.74 1338.58 1535.95 Q1335.48 1539.15 1329.83 1544.91 Z\" fill=\"#000000\" fill-rule=\"evenodd\" fill-opacity=\"1\" /><path clip-path=\"url(#clip400)\" d=\"M1365.97 1517.37 Q1362.35 1517.37 1360.53 1520.93 Q1358.72 1524.47 1358.72 1531.6 Q1358.72 1538.71 1360.53 1542.27 Q1362.35 1545.82 1365.97 1545.82 Q1369.6 1545.82 1371.41 1542.27 Q1373.23 1538.71 1373.23 1531.6 Q1373.23 1524.47 1371.41 1520.93 Q1369.6 1517.37 1365.97 1517.37 M1365.97 1513.66 Q1371.78 1513.66 1374.83 1518.27 Q1377.91 1522.85 1377.91 1531.6 Q1377.91 1540.33 1374.83 1544.94 Q1371.78 1549.52 1365.97 1549.52 Q1360.16 1549.52 1357.08 1544.94 Q1354.02 1540.33 1354.02 1531.6 Q1354.02 1522.85 1357.08 1518.27 Q1360.16 1513.66 1365.97 1513.66 Z\" fill=\"#000000\" fill-rule=\"evenodd\" fill-opacity=\"1\" /><path clip-path=\"url(#clip400)\" d=\"M1396.13 1517.37 Q1392.52 1517.37 1390.69 1520.93 Q1388.88 1524.47 1388.88 1531.6 Q1388.88 1538.71 1390.69 1542.27 Q1392.52 1545.82 1396.13 1545.82 Q1399.76 1545.82 1401.57 1542.27 Q1403.4 1538.71 1403.4 1531.6 Q1403.4 1524.47 1401.57 1520.93 Q1399.76 1517.37 1396.13 1517.37 M1396.13 1513.66 Q1401.94 1513.66 1404.99 1518.27 Q1408.07 1522.85 1408.07 1531.6 Q1408.07 1540.33 1404.99 1544.94 Q1401.94 1549.52 1396.13 1549.52 Q1390.32 1549.52 1387.24 1544.94 Q1384.18 1540.33 1384.18 1531.6 Q1384.18 1522.85 1387.24 1518.27 Q1390.32 1513.66 1396.13 1513.66 Z\" fill=\"#000000\" fill-rule=\"evenodd\" fill-opacity=\"1\" /><path clip-path=\"url(#clip400)\" d=\"M1919.42 1530.21 Q1922.78 1530.93 1924.65 1533.2 Q1926.55 1535.47 1926.55 1538.8 Q1926.55 1543.92 1923.03 1546.72 Q1919.51 1549.52 1913.03 1549.52 Q1910.85 1549.52 1908.54 1549.08 Q1906.25 1548.66 1903.79 1547.81 L1903.79 1543.29 Q1905.74 1544.43 1908.05 1545.01 Q1910.37 1545.58 1912.89 1545.58 Q1917.29 1545.58 1919.58 1543.85 Q1921.9 1542.11 1921.9 1538.8 Q1921.9 1535.75 1919.74 1534.03 Q1917.61 1532.3 1913.79 1532.3 L1909.77 1532.3 L1909.77 1528.45 L1913.98 1528.45 Q1917.43 1528.45 1919.26 1527.09 Q1921.09 1525.7 1921.09 1523.11 Q1921.09 1520.45 1919.19 1519.03 Q1917.31 1517.6 1913.79 1517.6 Q1911.87 1517.6 1909.67 1518.01 Q1907.47 1518.43 1904.84 1519.31 L1904.84 1515.14 Q1907.5 1514.4 1909.81 1514.03 Q1912.15 1513.66 1914.21 1513.66 Q1919.53 1513.66 1922.64 1516.09 Q1925.74 1518.5 1925.74 1522.62 Q1925.74 1525.49 1924.09 1527.48 Q1922.45 1529.45 1919.42 1530.21 Z\" fill=\"#000000\" fill-rule=\"evenodd\" fill-opacity=\"1\" /><path clip-path=\"url(#clip400)\" d=\"M1945.41 1517.37 Q1941.8 1517.37 1939.97 1520.93 Q1938.17 1524.47 1938.17 1531.6 Q1938.17 1538.71 1939.97 1542.27 Q1941.8 1545.82 1945.41 1545.82 Q1949.05 1545.82 1950.85 1542.27 Q1952.68 1538.71 1952.68 1531.6 Q1952.68 1524.47 1950.85 1520.93 Q1949.05 1517.37 1945.41 1517.37 M1945.41 1513.66 Q1951.22 1513.66 1954.28 1518.27 Q1957.36 1522.85 1957.36 1531.6 Q1957.36 1540.33 1954.28 1544.94 Q1951.22 1549.52 1945.41 1549.52 Q1939.6 1549.52 1936.53 1544.94 Q1933.47 1540.33 1933.47 1531.6 Q1933.47 1522.85 1936.53 1518.27 Q1939.6 1513.66 1945.41 1513.66 Z\" fill=\"#000000\" fill-rule=\"evenodd\" fill-opacity=\"1\" /><path clip-path=\"url(#clip400)\" d=\"M1975.58 1517.37 Q1971.97 1517.37 1970.14 1520.93 Q1968.33 1524.47 1968.33 1531.6 Q1968.33 1538.71 1970.14 1542.27 Q1971.97 1545.82 1975.58 1545.82 Q1979.21 1545.82 1981.02 1542.27 Q1982.84 1538.71 1982.84 1531.6 Q1982.84 1524.47 1981.02 1520.93 Q1979.21 1517.37 1975.58 1517.37 M1975.58 1513.66 Q1981.39 1513.66 1984.44 1518.27 Q1987.52 1522.85 1987.52 1531.6 Q1987.52 1540.33 1984.44 1544.94 Q1981.39 1549.52 1975.58 1549.52 Q1969.77 1549.52 1966.69 1544.94 Q1963.63 1540.33 1963.63 1531.6 Q1963.63 1522.85 1966.69 1518.27 Q1969.77 1513.66 1975.58 1513.66 Z\" fill=\"#000000\" fill-rule=\"evenodd\" fill-opacity=\"1\" /><polyline clip-path=\"url(#clip402)\" style=\"stroke:#000000; stroke-linecap:butt; stroke-linejoin:round; stroke-width:2; stroke-opacity:0.1; fill:none\" points=\"\n",
       "  147.709,1336.15 2352.76,1336.15 \n",
       "  \"/>\n",
       "<polyline clip-path=\"url(#clip402)\" style=\"stroke:#000000; stroke-linecap:butt; stroke-linejoin:round; stroke-width:2; stroke-opacity:0.1; fill:none\" points=\"\n",
       "  147.709,1146.21 2352.76,1146.21 \n",
       "  \"/>\n",
       "<polyline clip-path=\"url(#clip402)\" style=\"stroke:#000000; stroke-linecap:butt; stroke-linejoin:round; stroke-width:2; stroke-opacity:0.1; fill:none\" points=\"\n",
       "  147.709,956.261 2352.76,956.261 \n",
       "  \"/>\n",
       "<polyline clip-path=\"url(#clip402)\" style=\"stroke:#000000; stroke-linecap:butt; stroke-linejoin:round; stroke-width:2; stroke-opacity:0.1; fill:none\" points=\"\n",
       "  147.709,766.314 2352.76,766.314 \n",
       "  \"/>\n",
       "<polyline clip-path=\"url(#clip402)\" style=\"stroke:#000000; stroke-linecap:butt; stroke-linejoin:round; stroke-width:2; stroke-opacity:0.1; fill:none\" points=\"\n",
       "  147.709,576.367 2352.76,576.367 \n",
       "  \"/>\n",
       "<polyline clip-path=\"url(#clip402)\" style=\"stroke:#000000; stroke-linecap:butt; stroke-linejoin:round; stroke-width:2; stroke-opacity:0.1; fill:none\" points=\"\n",
       "  147.709,386.421 2352.76,386.421 \n",
       "  \"/>\n",
       "<polyline clip-path=\"url(#clip402)\" style=\"stroke:#000000; stroke-linecap:butt; stroke-linejoin:round; stroke-width:2; stroke-opacity:0.1; fill:none\" points=\"\n",
       "  147.709,196.474 2352.76,196.474 \n",
       "  \"/>\n",
       "<polyline clip-path=\"url(#clip400)\" style=\"stroke:#000000; stroke-linecap:butt; stroke-linejoin:round; stroke-width:4; stroke-opacity:1; fill:none\" points=\"\n",
       "  147.709,1486.45 147.709,47.2441 \n",
       "  \"/>\n",
       "<polyline clip-path=\"url(#clip400)\" style=\"stroke:#000000; stroke-linecap:butt; stroke-linejoin:round; stroke-width:4; stroke-opacity:1; fill:none\" points=\"\n",
       "  147.709,1336.15 166.607,1336.15 \n",
       "  \"/>\n",
       "<polyline clip-path=\"url(#clip400)\" style=\"stroke:#000000; stroke-linecap:butt; stroke-linejoin:round; stroke-width:4; stroke-opacity:1; fill:none\" points=\"\n",
       "  147.709,1146.21 166.607,1146.21 \n",
       "  \"/>\n",
       "<polyline clip-path=\"url(#clip400)\" style=\"stroke:#000000; stroke-linecap:butt; stroke-linejoin:round; stroke-width:4; stroke-opacity:1; fill:none\" points=\"\n",
       "  147.709,956.261 166.607,956.261 \n",
       "  \"/>\n",
       "<polyline clip-path=\"url(#clip400)\" style=\"stroke:#000000; stroke-linecap:butt; stroke-linejoin:round; stroke-width:4; stroke-opacity:1; fill:none\" points=\"\n",
       "  147.709,766.314 166.607,766.314 \n",
       "  \"/>\n",
       "<polyline clip-path=\"url(#clip400)\" style=\"stroke:#000000; stroke-linecap:butt; stroke-linejoin:round; stroke-width:4; stroke-opacity:1; fill:none\" points=\"\n",
       "  147.709,576.367 166.607,576.367 \n",
       "  \"/>\n",
       "<polyline clip-path=\"url(#clip400)\" style=\"stroke:#000000; stroke-linecap:butt; stroke-linejoin:round; stroke-width:4; stroke-opacity:1; fill:none\" points=\"\n",
       "  147.709,386.421 166.607,386.421 \n",
       "  \"/>\n",
       "<polyline clip-path=\"url(#clip400)\" style=\"stroke:#000000; stroke-linecap:butt; stroke-linejoin:round; stroke-width:4; stroke-opacity:1; fill:none\" points=\"\n",
       "  147.709,196.474 166.607,196.474 \n",
       "  \"/>\n",
       "<path clip-path=\"url(#clip400)\" d=\"M50.9921 1336.61 L80.6679 1336.61 L80.6679 1340.54 L50.9921 1340.54 L50.9921 1336.61 Z\" fill=\"#000000\" fill-rule=\"evenodd\" fill-opacity=\"1\" /><path clip-path=\"url(#clip400)\" d=\"M90.8067 1318.87 L109.163 1318.87 L109.163 1322.81 L95.0891 1322.81 L95.0891 1331.28 Q96.1076 1330.93 97.1261 1330.77 Q98.1447 1330.59 99.1632 1330.59 Q104.95 1330.59 108.33 1333.76 Q111.709 1336.93 111.709 1342.35 Q111.709 1347.93 108.237 1351.03 Q104.765 1354.11 98.4456 1354.11 Q96.2697 1354.11 94.0012 1353.74 Q91.7558 1353.36 89.3484 1352.62 L89.3484 1347.93 Q91.4317 1349.06 93.6539 1349.61 Q95.8761 1350.17 98.353 1350.17 Q102.358 1350.17 104.696 1348.06 Q107.033 1345.96 107.033 1342.35 Q107.033 1338.74 104.696 1336.63 Q102.358 1334.52 98.353 1334.52 Q96.478 1334.52 94.603 1334.94 Q92.7512 1335.36 90.8067 1336.24 L90.8067 1318.87 Z\" fill=\"#000000\" fill-rule=\"evenodd\" fill-opacity=\"1\" /><path clip-path=\"url(#clip400)\" d=\"M99.765 1132.01 Q96.1539 1132.01 94.3252 1135.57 Q92.5197 1139.11 92.5197 1146.24 Q92.5197 1153.35 94.3252 1156.91 Q96.1539 1160.46 99.765 1160.46 Q103.399 1160.46 105.205 1156.91 Q107.033 1153.35 107.033 1146.24 Q107.033 1139.11 105.205 1135.57 Q103.399 1132.01 99.765 1132.01 M99.765 1128.3 Q105.575 1128.3 108.631 1132.91 Q111.709 1137.49 111.709 1146.24 Q111.709 1154.97 108.631 1159.58 Q105.575 1164.16 99.765 1164.16 Q93.9549 1164.16 90.8762 1159.58 Q87.8206 1154.97 87.8206 1146.24 Q87.8206 1137.49 90.8762 1132.91 Q93.9549 1128.3 99.765 1128.3 Z\" fill=\"#000000\" fill-rule=\"evenodd\" fill-opacity=\"1\" /><path clip-path=\"url(#clip400)\" d=\"M90.8067 938.981 L109.163 938.981 L109.163 942.916 L95.0891 942.916 L95.0891 951.388 Q96.1076 951.041 97.1261 950.879 Q98.1447 950.694 99.1632 950.694 Q104.95 950.694 108.33 953.865 Q111.709 957.036 111.709 962.453 Q111.709 968.032 108.237 971.133 Q104.765 974.212 98.4456 974.212 Q96.2697 974.212 94.0012 973.842 Q91.7558 973.471 89.3484 972.731 L89.3484 968.032 Q91.4317 969.166 93.6539 969.721 Q95.8761 970.277 98.353 970.277 Q102.358 970.277 104.696 968.171 Q107.033 966.064 107.033 962.453 Q107.033 958.842 104.696 956.735 Q102.358 954.629 98.353 954.629 Q96.478 954.629 94.603 955.046 Q92.7512 955.462 90.8067 956.342 L90.8067 938.981 Z\" fill=\"#000000\" fill-rule=\"evenodd\" fill-opacity=\"1\" /><path clip-path=\"url(#clip400)\" d=\"M60.4134 779.659 L68.0522 779.659 L68.0522 753.293 L59.7421 754.96 L59.7421 750.701 L68.0059 749.034 L72.6818 749.034 L72.6818 779.659 L80.3207 779.659 L80.3207 783.594 L60.4134 783.594 L60.4134 779.659 Z\" fill=\"#000000\" fill-rule=\"evenodd\" fill-opacity=\"1\" /><path clip-path=\"url(#clip400)\" d=\"M99.765 752.113 Q96.1539 752.113 94.3252 755.678 Q92.5197 759.219 92.5197 766.349 Q92.5197 773.455 94.3252 777.02 Q96.1539 780.562 99.765 780.562 Q103.399 780.562 105.205 777.02 Q107.033 773.455 107.033 766.349 Q107.033 759.219 105.205 755.678 Q103.399 752.113 99.765 752.113 M99.765 748.409 Q105.575 748.409 108.631 753.016 Q111.709 757.599 111.709 766.349 Q111.709 775.076 108.631 779.682 Q105.575 784.265 99.765 784.265 Q93.9549 784.265 90.8762 779.682 Q87.8206 775.076 87.8206 766.349 Q87.8206 757.599 90.8762 753.016 Q93.9549 748.409 99.765 748.409 Z\" fill=\"#000000\" fill-rule=\"evenodd\" fill-opacity=\"1\" /><path clip-path=\"url(#clip400)\" d=\"M61.4087 589.712 L69.0476 589.712 L69.0476 563.347 L60.7374 565.013 L60.7374 560.754 L69.0013 559.087 L73.6772 559.087 L73.6772 589.712 L81.316 589.712 L81.316 593.647 L61.4087 593.647 L61.4087 589.712 Z\" fill=\"#000000\" fill-rule=\"evenodd\" fill-opacity=\"1\" /><path clip-path=\"url(#clip400)\" d=\"M90.8067 559.087 L109.163 559.087 L109.163 563.023 L95.0891 563.023 L95.0891 571.495 Q96.1076 571.147 97.1261 570.985 Q98.1447 570.8 99.1632 570.8 Q104.95 570.8 108.33 573.972 Q111.709 577.143 111.709 582.559 Q111.709 588.138 108.237 591.24 Q104.765 594.319 98.4456 594.319 Q96.2697 594.319 94.0012 593.948 Q91.7558 593.578 89.3484 592.837 L89.3484 588.138 Q91.4317 589.272 93.6539 589.828 Q95.8761 590.384 98.353 590.384 Q102.358 590.384 104.696 588.277 Q107.033 586.171 107.033 582.559 Q107.033 578.948 104.696 576.842 Q102.358 574.735 98.353 574.735 Q96.478 574.735 94.603 575.152 Q92.7512 575.569 90.8067 576.448 L90.8067 559.087 Z\" fill=\"#000000\" fill-rule=\"evenodd\" fill-opacity=\"1\" /><path clip-path=\"url(#clip400)\" d=\"M63.6309 399.765 L79.9503 399.765 L79.9503 403.701 L58.006 403.701 L58.006 399.765 Q60.668 397.011 65.2513 392.381 Q69.8578 387.728 71.0383 386.386 Q73.2837 383.863 74.1633 382.127 Q75.0661 380.367 75.0661 378.678 Q75.0661 375.923 73.1216 374.187 Q71.2004 372.451 68.0985 372.451 Q65.8995 372.451 63.4458 373.215 Q61.0152 373.979 58.2375 375.529 L58.2375 370.807 Q61.0615 369.673 63.5152 369.094 Q65.9689 368.516 68.0059 368.516 Q73.3763 368.516 76.5707 371.201 Q79.7651 373.886 79.7651 378.377 Q79.7651 380.506 78.9549 382.428 Q78.1679 384.326 76.0614 386.918 Q75.4827 387.59 72.3809 390.807 Q69.2791 394.002 63.6309 399.765 Z\" fill=\"#000000\" fill-rule=\"evenodd\" fill-opacity=\"1\" /><path clip-path=\"url(#clip400)\" d=\"M99.765 372.219 Q96.1539 372.219 94.3252 375.784 Q92.5197 379.326 92.5197 386.455 Q92.5197 393.562 94.3252 397.127 Q96.1539 400.668 99.765 400.668 Q103.399 400.668 105.205 397.127 Q107.033 393.562 107.033 386.455 Q107.033 379.326 105.205 375.784 Q103.399 372.219 99.765 372.219 M99.765 368.516 Q105.575 368.516 108.631 373.122 Q111.709 377.705 111.709 386.455 Q111.709 395.182 108.631 399.789 Q105.575 404.372 99.765 404.372 Q93.9549 404.372 90.8762 399.789 Q87.8206 395.182 87.8206 386.455 Q87.8206 377.705 90.8762 373.122 Q93.9549 368.516 99.765 368.516 Z\" fill=\"#000000\" fill-rule=\"evenodd\" fill-opacity=\"1\" /><path clip-path=\"url(#clip400)\" d=\"M64.6263 209.819 L80.9457 209.819 L80.9457 213.754 L59.0013 213.754 L59.0013 209.819 Q61.6634 207.064 66.2467 202.434 Q70.8531 197.782 72.0337 196.439 Q74.279 193.916 75.1587 192.18 Q76.0614 190.421 76.0614 188.731 Q76.0614 185.976 74.117 184.24 Q72.1957 182.504 69.0939 182.504 Q66.8948 182.504 64.4411 183.268 Q62.0106 184.032 59.2328 185.583 L59.2328 180.861 Q62.0569 179.726 64.5106 179.148 Q66.9643 178.569 69.0013 178.569 Q74.3716 178.569 77.5661 181.254 Q80.7605 183.939 80.7605 188.43 Q80.7605 190.56 79.9503 192.481 Q79.1633 194.379 77.0568 196.972 Q76.4781 197.643 73.3763 200.86 Q70.2744 204.055 64.6263 209.819 Z\" fill=\"#000000\" fill-rule=\"evenodd\" fill-opacity=\"1\" /><path clip-path=\"url(#clip400)\" d=\"M90.8067 179.194 L109.163 179.194 L109.163 183.129 L95.0891 183.129 L95.0891 191.601 Q96.1076 191.254 97.1261 191.092 Q98.1447 190.907 99.1632 190.907 Q104.95 190.907 108.33 194.078 Q111.709 197.249 111.709 202.666 Q111.709 208.245 108.237 211.346 Q104.765 214.425 98.4456 214.425 Q96.2697 214.425 94.0012 214.055 Q91.7558 213.684 89.3484 212.944 L89.3484 208.245 Q91.4317 209.379 93.6539 209.934 Q95.8761 210.49 98.353 210.49 Q102.358 210.49 104.696 208.384 Q107.033 206.277 107.033 202.666 Q107.033 199.055 104.696 196.948 Q102.358 194.842 98.353 194.842 Q96.478 194.842 94.603 195.259 Q92.7512 195.675 90.8067 196.555 L90.8067 179.194 Z\" fill=\"#000000\" fill-rule=\"evenodd\" fill-opacity=\"1\" /><circle clip-path=\"url(#clip402)\" cx=\"328.251\" cy=\"1146.21\" r=\"14\" fill=\"#009af9\" fill-rule=\"evenodd\" fill-opacity=\"1\" stroke=\"#000000\" stroke-opacity=\"1\" stroke-width=\"3.2\"/>\n",
       "<circle clip-path=\"url(#clip402)\" cx=\"2172.21\" cy=\"1146.21\" r=\"14\" fill=\"#009af9\" fill-rule=\"evenodd\" fill-opacity=\"1\" stroke=\"#000000\" stroke-opacity=\"1\" stroke-width=\"3.2\"/>\n",
       "<circle clip-path=\"url(#clip402)\" cx=\"265.825\" cy=\"1310.13\" r=\"14\" fill=\"#009af9\" fill-rule=\"evenodd\" fill-opacity=\"1\" stroke=\"#000000\" stroke-opacity=\"1\" stroke-width=\"3.2\"/>\n",
       "<circle clip-path=\"url(#clip402)\" cx=\"246\" cy=\"1290.3\" r=\"14\" fill=\"#009af9\" fill-rule=\"evenodd\" fill-opacity=\"1\" stroke=\"#000000\" stroke-opacity=\"1\" stroke-width=\"3.2\"/>\n",
       "<circle clip-path=\"url(#clip402)\" cx=\"258.408\" cy=\"1192.97\" r=\"14\" fill=\"#009af9\" fill-rule=\"evenodd\" fill-opacity=\"1\" stroke=\"#000000\" stroke-opacity=\"1\" stroke-width=\"3.2\"/>\n",
       "<circle clip-path=\"url(#clip402)\" cx=\"225.984\" cy=\"1269.86\" r=\"14\" fill=\"#009af9\" fill-rule=\"evenodd\" fill-opacity=\"1\" stroke=\"#000000\" stroke-opacity=\"1\" stroke-width=\"3.2\"/>\n",
       "<circle clip-path=\"url(#clip402)\" cx=\"238.536\" cy=\"1173.33\" r=\"14\" fill=\"#009af9\" fill-rule=\"evenodd\" fill-opacity=\"1\" stroke=\"#000000\" stroke-opacity=\"1\" stroke-width=\"3.2\"/>\n",
       "<circle clip-path=\"url(#clip402)\" cx=\"277.966\" cy=\"1211.32\" r=\"14\" fill=\"#009af9\" fill-rule=\"evenodd\" fill-opacity=\"1\" stroke=\"#000000\" stroke-opacity=\"1\" stroke-width=\"3.2\"/>\n",
       "<circle clip-path=\"url(#clip402)\" cx=\"316.354\" cy=\"1246.27\" r=\"14\" fill=\"#009af9\" fill-rule=\"evenodd\" fill-opacity=\"1\" stroke=\"#000000\" stroke-opacity=\"1\" stroke-width=\"3.2\"/>\n",
       "<circle clip-path=\"url(#clip402)\" cx=\"297.183\" cy=\"1228.76\" r=\"14\" fill=\"#009af9\" fill-rule=\"evenodd\" fill-opacity=\"1\" stroke=\"#000000\" stroke-opacity=\"1\" stroke-width=\"3.2\"/>\n",
       "<circle clip-path=\"url(#clip402)\" cx=\"216.856\" cy=\"1158.02\" r=\"14\" fill=\"#009af9\" fill-rule=\"evenodd\" fill-opacity=\"1\" stroke=\"#000000\" stroke-opacity=\"1\" stroke-width=\"3.2\"/>\n",
       "<circle clip-path=\"url(#clip402)\" cx=\"335.536\" cy=\"1263.75\" r=\"14\" fill=\"#009af9\" fill-rule=\"evenodd\" fill-opacity=\"1\" stroke=\"#000000\" stroke-opacity=\"1\" stroke-width=\"3.2\"/>\n",
       "<circle clip-path=\"url(#clip402)\" cx=\"604.768\" cy=\"1143.02\" r=\"14\" fill=\"#009af9\" fill-rule=\"evenodd\" fill-opacity=\"1\" stroke=\"#000000\" stroke-opacity=\"1\" stroke-width=\"3.2\"/>\n",
       "<circle clip-path=\"url(#clip402)\" cx=\"2218.01\" cy=\"1298.2\" r=\"14\" fill=\"#009af9\" fill-rule=\"evenodd\" fill-opacity=\"1\" stroke=\"#000000\" stroke-opacity=\"1\" stroke-width=\"3.2\"/>\n",
       "<circle clip-path=\"url(#clip402)\" cx=\"2198.69\" cy=\"1281.07\" r=\"14\" fill=\"#009af9\" fill-rule=\"evenodd\" fill-opacity=\"1\" stroke=\"#000000\" stroke-opacity=\"1\" stroke-width=\"3.2\"/>\n",
       "<circle clip-path=\"url(#clip402)\" cx=\"2210.6\" cy=\"1181.08\" r=\"14\" fill=\"#009af9\" fill-rule=\"evenodd\" fill-opacity=\"1\" stroke=\"#000000\" stroke-opacity=\"1\" stroke-width=\"3.2\"/>\n",
       "<circle clip-path=\"url(#clip402)\" cx=\"2179.5\" cy=\"1263.75\" r=\"14\" fill=\"#009af9\" fill-rule=\"evenodd\" fill-opacity=\"1\" stroke=\"#000000\" stroke-opacity=\"1\" stroke-width=\"3.2\"/>\n",
       "<circle clip-path=\"url(#clip402)\" cx=\"2229.92\" cy=\"1198.22\" r=\"14\" fill=\"#009af9\" fill-rule=\"evenodd\" fill-opacity=\"1\" stroke=\"#000000\" stroke-opacity=\"1\" stroke-width=\"3.2\"/>\n",
       "<circle clip-path=\"url(#clip402)\" cx=\"2249.53\" cy=\"1216.41\" r=\"14\" fill=\"#009af9\" fill-rule=\"evenodd\" fill-opacity=\"1\" stroke=\"#000000\" stroke-opacity=\"1\" stroke-width=\"3.2\"/>\n",
       "<circle clip-path=\"url(#clip402)\" cx=\"2290.35\" cy=\"1253.26\" r=\"14\" fill=\"#009af9\" fill-rule=\"evenodd\" fill-opacity=\"1\" stroke=\"#000000\" stroke-opacity=\"1\" stroke-width=\"3.2\"/>\n",
       "<circle clip-path=\"url(#clip402)\" cx=\"2271.06\" cy=\"1230.92\" r=\"14\" fill=\"#009af9\" fill-rule=\"evenodd\" fill-opacity=\"1\" stroke=\"#000000\" stroke-opacity=\"1\" stroke-width=\"3.2\"/>\n",
       "<circle clip-path=\"url(#clip402)\" cx=\"2191.38\" cy=\"1163.64\" r=\"14\" fill=\"#009af9\" fill-rule=\"evenodd\" fill-opacity=\"1\" stroke=\"#000000\" stroke-opacity=\"1\" stroke-width=\"3.2\"/>\n",
       "<circle clip-path=\"url(#clip402)\" cx=\"405.281\" cy=\"1216.15\" r=\"14\" fill=\"#009af9\" fill-rule=\"evenodd\" fill-opacity=\"1\" stroke=\"#000000\" stroke-opacity=\"1\" stroke-width=\"3.2\"/>\n",
       "<circle clip-path=\"url(#clip402)\" cx=\"424.44\" cy=\"1233.96\" r=\"14\" fill=\"#009af9\" fill-rule=\"evenodd\" fill-opacity=\"1\" stroke=\"#000000\" stroke-opacity=\"1\" stroke-width=\"3.2\"/>\n",
       "<circle clip-path=\"url(#clip402)\" cx=\"443.616\" cy=\"1251.44\" r=\"14\" fill=\"#009af9\" fill-rule=\"evenodd\" fill-opacity=\"1\" stroke=\"#000000\" stroke-opacity=\"1\" stroke-width=\"3.2\"/>\n",
       "<circle clip-path=\"url(#clip402)\" cx=\"417.178\" cy=\"1116.2\" r=\"14\" fill=\"#009af9\" fill-rule=\"evenodd\" fill-opacity=\"1\" stroke=\"#000000\" stroke-opacity=\"1\" stroke-width=\"3.2\"/>\n",
       "<circle clip-path=\"url(#clip402)\" cx=\"398.019\" cy=\"1098.64\" r=\"14\" fill=\"#009af9\" fill-rule=\"evenodd\" fill-opacity=\"1\" stroke=\"#000000\" stroke-opacity=\"1\" stroke-width=\"3.2\"/>\n",
       "<circle clip-path=\"url(#clip402)\" cx=\"386.018\" cy=\"1198.1\" r=\"14\" fill=\"#009af9\" fill-rule=\"evenodd\" fill-opacity=\"1\" stroke=\"#000000\" stroke-opacity=\"1\" stroke-width=\"3.2\"/>\n",
       "<circle clip-path=\"url(#clip402)\" cx=\"436.331\" cy=\"1133.94\" r=\"14\" fill=\"#009af9\" fill-rule=\"evenodd\" fill-opacity=\"1\" stroke=\"#000000\" stroke-opacity=\"1\" stroke-width=\"3.2\"/>\n",
       "<circle clip-path=\"url(#clip402)\" cx=\"455.49\" cy=\"1151.3\" r=\"14\" fill=\"#009af9\" fill-rule=\"evenodd\" fill-opacity=\"1\" stroke=\"#000000\" stroke-opacity=\"1\" stroke-width=\"3.2\"/>\n",
       "<circle clip-path=\"url(#clip402)\" cx=\"475.2\" cy=\"1170.94\" r=\"14\" fill=\"#009af9\" fill-rule=\"evenodd\" fill-opacity=\"1\" stroke=\"#000000\" stroke-opacity=\"1\" stroke-width=\"3.2\"/>\n",
       "<circle clip-path=\"url(#clip402)\" cx=\"467.834\" cy=\"1053.7\" r=\"14\" fill=\"#009af9\" fill-rule=\"evenodd\" fill-opacity=\"1\" stroke=\"#000000\" stroke-opacity=\"1\" stroke-width=\"3.2\"/>\n",
       "<circle clip-path=\"url(#clip402)\" cx=\"494.231\" cy=\"1148.34\" r=\"14\" fill=\"#009af9\" fill-rule=\"evenodd\" fill-opacity=\"1\" stroke=\"#000000\" stroke-opacity=\"1\" stroke-width=\"3.2\"/>\n",
       "<circle clip-path=\"url(#clip402)\" cx=\"486.888\" cy=\"1031.02\" r=\"14\" fill=\"#009af9\" fill-rule=\"evenodd\" fill-opacity=\"1\" stroke=\"#000000\" stroke-opacity=\"1\" stroke-width=\"3.2\"/>\n",
       "<circle clip-path=\"url(#clip402)\" cx=\"513.564\" cy=\"1152.55\" r=\"14\" fill=\"#009af9\" fill-rule=\"evenodd\" fill-opacity=\"1\" stroke=\"#000000\" stroke-opacity=\"1\" stroke-width=\"3.2\"/>\n",
       "<circle clip-path=\"url(#clip402)\" cx=\"448.211\" cy=\"1033.84\" r=\"14\" fill=\"#009af9\" fill-rule=\"evenodd\" fill-opacity=\"1\" stroke=\"#000000\" stroke-opacity=\"1\" stroke-width=\"3.2\"/>\n",
       "<circle clip-path=\"url(#clip402)\" cx=\"429.029\" cy=\"1015.94\" r=\"14\" fill=\"#009af9\" fill-rule=\"evenodd\" fill-opacity=\"1\" stroke=\"#000000\" stroke-opacity=\"1\" stroke-width=\"3.2\"/>\n",
       "<circle clip-path=\"url(#clip402)\" cx=\"374.062\" cy=\"1298.2\" r=\"14\" fill=\"#009af9\" fill-rule=\"evenodd\" fill-opacity=\"1\" stroke=\"#000000\" stroke-opacity=\"1\" stroke-width=\"3.2\"/>\n",
       "<circle clip-path=\"url(#clip402)\" cx=\"366.638\" cy=\"1181.08\" r=\"14\" fill=\"#009af9\" fill-rule=\"evenodd\" fill-opacity=\"1\" stroke=\"#000000\" stroke-opacity=\"1\" stroke-width=\"3.2\"/>\n",
       "<circle clip-path=\"url(#clip402)\" cx=\"378.542\" cy=\"1081.13\" r=\"14\" fill=\"#009af9\" fill-rule=\"evenodd\" fill-opacity=\"1\" stroke=\"#000000\" stroke-opacity=\"1\" stroke-width=\"3.2\"/>\n",
       "<circle clip-path=\"url(#clip402)\" cx=\"390.555\" cy=\"981.638\" r=\"14\" fill=\"#009af9\" fill-rule=\"evenodd\" fill-opacity=\"1\" stroke=\"#000000\" stroke-opacity=\"1\" stroke-width=\"3.2\"/>\n",
       "<circle clip-path=\"url(#clip402)\" cx=\"359.319\" cy=\"1063.73\" r=\"14\" fill=\"#009af9\" fill-rule=\"evenodd\" fill-opacity=\"1\" stroke=\"#000000\" stroke-opacity=\"1\" stroke-width=\"3.2\"/>\n",
       "<circle clip-path=\"url(#clip402)\" cx=\"347.416\" cy=\"1163.64\" r=\"14\" fill=\"#009af9\" fill-rule=\"evenodd\" fill-opacity=\"1\" stroke=\"#000000\" stroke-opacity=\"1\" stroke-width=\"3.2\"/>\n",
       "<circle clip-path=\"url(#clip402)\" cx=\"354.729\" cy=\"1281.03\" r=\"14\" fill=\"#009af9\" fill-rule=\"evenodd\" fill-opacity=\"1\" stroke=\"#000000\" stroke-opacity=\"1\" stroke-width=\"3.2\"/>\n",
       "<circle clip-path=\"url(#clip402)\" cx=\"409.859\" cy=\"995.998\" r=\"14\" fill=\"#009af9\" fill-rule=\"evenodd\" fill-opacity=\"1\" stroke=\"#000000\" stroke-opacity=\"1\" stroke-width=\"3.2\"/>\n",
       "<circle clip-path=\"url(#clip402)\" cx=\"340.149\" cy=\"1046.14\" r=\"14\" fill=\"#009af9\" fill-rule=\"evenodd\" fill-opacity=\"1\" stroke=\"#000000\" stroke-opacity=\"1\" stroke-width=\"3.2\"/>\n",
       "<circle clip-path=\"url(#clip402)\" cx=\"2095.18\" cy=\"1076.31\" r=\"14\" fill=\"#009af9\" fill-rule=\"evenodd\" fill-opacity=\"1\" stroke=\"#000000\" stroke-opacity=\"1\" stroke-width=\"3.2\"/>\n",
       "<circle clip-path=\"url(#clip402)\" cx=\"2076.03\" cy=\"1058.49\" r=\"14\" fill=\"#009af9\" fill-rule=\"evenodd\" fill-opacity=\"1\" stroke=\"#000000\" stroke-opacity=\"1\" stroke-width=\"3.2\"/>\n",
       "<circle clip-path=\"url(#clip402)\" cx=\"2056.85\" cy=\"1041.02\" r=\"14\" fill=\"#009af9\" fill-rule=\"evenodd\" fill-opacity=\"1\" stroke=\"#000000\" stroke-opacity=\"1\" stroke-width=\"3.2\"/>\n",
       "<circle clip-path=\"url(#clip402)\" cx=\"2083.29\" cy=\"1176.26\" r=\"14\" fill=\"#009af9\" fill-rule=\"evenodd\" fill-opacity=\"1\" stroke=\"#000000\" stroke-opacity=\"1\" stroke-width=\"3.2\"/>\n",
       "<circle clip-path=\"url(#clip402)\" cx=\"2102.45\" cy=\"1193.81\" r=\"14\" fill=\"#009af9\" fill-rule=\"evenodd\" fill-opacity=\"1\" stroke=\"#000000\" stroke-opacity=\"1\" stroke-width=\"3.2\"/>\n",
       "<circle clip-path=\"url(#clip402)\" cx=\"2114.45\" cy=\"1094.35\" r=\"14\" fill=\"#009af9\" fill-rule=\"evenodd\" fill-opacity=\"1\" stroke=\"#000000\" stroke-opacity=\"1\" stroke-width=\"3.2\"/>\n",
       "<circle clip-path=\"url(#clip402)\" cx=\"2064.13\" cy=\"1158.52\" r=\"14\" fill=\"#009af9\" fill-rule=\"evenodd\" fill-opacity=\"1\" stroke=\"#000000\" stroke-opacity=\"1\" stroke-width=\"3.2\"/>\n",
       "<circle clip-path=\"url(#clip402)\" cx=\"2044.98\" cy=\"1141.16\" r=\"14\" fill=\"#009af9\" fill-rule=\"evenodd\" fill-opacity=\"1\" stroke=\"#000000\" stroke-opacity=\"1\" stroke-width=\"3.2\"/>\n",
       "<circle clip-path=\"url(#clip402)\" cx=\"2037.62\" cy=\"1023.88\" r=\"14\" fill=\"#009af9\" fill-rule=\"evenodd\" fill-opacity=\"1\" stroke=\"#000000\" stroke-opacity=\"1\" stroke-width=\"3.2\"/>\n",
       "<circle clip-path=\"url(#clip402)\" cx=\"2025.27\" cy=\"1121.51\" r=\"14\" fill=\"#009af9\" fill-rule=\"evenodd\" fill-opacity=\"1\" stroke=\"#000000\" stroke-opacity=\"1\" stroke-width=\"3.2\"/>\n",
       "<circle clip-path=\"url(#clip402)\" cx=\"2032.63\" cy=\"1238.75\" r=\"14\" fill=\"#009af9\" fill-rule=\"evenodd\" fill-opacity=\"1\" stroke=\"#000000\" stroke-opacity=\"1\" stroke-width=\"3.2\"/>\n",
       "<circle clip-path=\"url(#clip402)\" cx=\"2006.23\" cy=\"1144.12\" r=\"14\" fill=\"#009af9\" fill-rule=\"evenodd\" fill-opacity=\"1\" stroke=\"#000000\" stroke-opacity=\"1\" stroke-width=\"3.2\"/>\n",
       "<circle clip-path=\"url(#clip402)\" cx=\"2013.58\" cy=\"1261.43\" r=\"14\" fill=\"#009af9\" fill-rule=\"evenodd\" fill-opacity=\"1\" stroke=\"#000000\" stroke-opacity=\"1\" stroke-width=\"3.2\"/>\n",
       "<circle clip-path=\"url(#clip402)\" cx=\"2122.89\" cy=\"652.46\" r=\"14\" fill=\"#009af9\" fill-rule=\"evenodd\" fill-opacity=\"1\" stroke=\"#000000\" stroke-opacity=\"1\" stroke-width=\"3.2\"/>\n",
       "<circle clip-path=\"url(#clip402)\" cx=\"2029.62\" cy=\"908.356\" r=\"14\" fill=\"#009af9\" fill-rule=\"evenodd\" fill-opacity=\"1\" stroke=\"#000000\" stroke-opacity=\"1\" stroke-width=\"3.2\"/>\n",
       "<circle clip-path=\"url(#clip402)\" cx=\"2017.25\" cy=\"1006.1\" r=\"14\" fill=\"#009af9\" fill-rule=\"evenodd\" fill-opacity=\"1\" stroke=\"#000000\" stroke-opacity=\"1\" stroke-width=\"3.2\"/>\n",
       "<circle clip-path=\"url(#clip402)\" cx=\"2126.4\" cy=\"994.25\" r=\"14\" fill=\"#009af9\" fill-rule=\"evenodd\" fill-opacity=\"1\" stroke=\"#000000\" stroke-opacity=\"1\" stroke-width=\"3.2\"/>\n",
       "<circle clip-path=\"url(#clip402)\" cx=\"2133.83\" cy=\"1111.37\" r=\"14\" fill=\"#009af9\" fill-rule=\"evenodd\" fill-opacity=\"1\" stroke=\"#000000\" stroke-opacity=\"1\" stroke-width=\"3.2\"/>\n",
       "<circle clip-path=\"url(#clip402)\" cx=\"2121.92\" cy=\"1211.32\" r=\"14\" fill=\"#009af9\" fill-rule=\"evenodd\" fill-opacity=\"1\" stroke=\"#000000\" stroke-opacity=\"1\" stroke-width=\"3.2\"/>\n",
       "<circle clip-path=\"url(#clip402)\" cx=\"2141.15\" cy=\"1228.72\" r=\"14\" fill=\"#009af9\" fill-rule=\"evenodd\" fill-opacity=\"1\" stroke=\"#000000\" stroke-opacity=\"1\" stroke-width=\"3.2\"/>\n",
       "<circle clip-path=\"url(#clip402)\" cx=\"2153.05\" cy=\"1128.81\" r=\"14\" fill=\"#009af9\" fill-rule=\"evenodd\" fill-opacity=\"1\" stroke=\"#000000\" stroke-opacity=\"1\" stroke-width=\"3.2\"/>\n",
       "<circle clip-path=\"url(#clip402)\" cx=\"2145.74\" cy=\"1011.42\" r=\"14\" fill=\"#009af9\" fill-rule=\"evenodd\" fill-opacity=\"1\" stroke=\"#000000\" stroke-opacity=\"1\" stroke-width=\"3.2\"/>\n",
       "<circle clip-path=\"url(#clip402)\" cx=\"2160.32\" cy=\"1246.31\" r=\"14\" fill=\"#009af9\" fill-rule=\"evenodd\" fill-opacity=\"1\" stroke=\"#000000\" stroke-opacity=\"1\" stroke-width=\"3.2\"/>\n",
       "<circle clip-path=\"url(#clip402)\" cx=\"242.587\" cy=\"409.898\" r=\"14\" fill=\"#009af9\" fill-rule=\"evenodd\" fill-opacity=\"1\" stroke=\"#000000\" stroke-opacity=\"1\" stroke-width=\"3.2\"/>\n",
       "<circle clip-path=\"url(#clip402)\" cx=\"282.452\" cy=\"994.25\" r=\"14\" fill=\"#009af9\" fill-rule=\"evenodd\" fill-opacity=\"1\" stroke=\"#000000\" stroke-opacity=\"1\" stroke-width=\"3.2\"/>\n",
       "<circle clip-path=\"url(#clip402)\" cx=\"263.084\" cy=\"977.231\" r=\"14\" fill=\"#009af9\" fill-rule=\"evenodd\" fill-opacity=\"1\" stroke=\"#000000\" stroke-opacity=\"1\" stroke-width=\"3.2\"/>\n",
       "<circle clip-path=\"url(#clip402)\" cx=\"301.773\" cy=\"1011.38\" r=\"14\" fill=\"#009af9\" fill-rule=\"evenodd\" fill-opacity=\"1\" stroke=\"#000000\" stroke-opacity=\"1\" stroke-width=\"3.2\"/>\n",
       "<circle clip-path=\"url(#clip402)\" cx=\"289.87\" cy=\"1111.37\" r=\"14\" fill=\"#009af9\" fill-rule=\"evenodd\" fill-opacity=\"1\" stroke=\"#000000\" stroke-opacity=\"1\" stroke-width=\"3.2\"/>\n",
       "<circle clip-path=\"url(#clip402)\" cx=\"320.967\" cy=\"1028.71\" r=\"14\" fill=\"#009af9\" fill-rule=\"evenodd\" fill-opacity=\"1\" stroke=\"#000000\" stroke-opacity=\"1\" stroke-width=\"3.2\"/>\n",
       "<circle clip-path=\"url(#clip402)\" cx=\"270.549\" cy=\"1094.24\" r=\"14\" fill=\"#009af9\" fill-rule=\"evenodd\" fill-opacity=\"1\" stroke=\"#000000\" stroke-opacity=\"1\" stroke-width=\"3.2\"/>\n",
       "<circle clip-path=\"url(#clip402)\" cx=\"241.822\" cy=\"964.163\" r=\"14\" fill=\"#009af9\" fill-rule=\"evenodd\" fill-opacity=\"1\" stroke=\"#000000\" stroke-opacity=\"1\" stroke-width=\"3.2\"/>\n",
       "<circle clip-path=\"url(#clip402)\" cx=\"250.938\" cy=\"1076.04\" r=\"14\" fill=\"#009af9\" fill-rule=\"evenodd\" fill-opacity=\"1\" stroke=\"#000000\" stroke-opacity=\"1\" stroke-width=\"3.2\"/>\n",
       "<circle clip-path=\"url(#clip402)\" cx=\"210.116\" cy=\"1039.19\" r=\"14\" fill=\"#009af9\" fill-rule=\"evenodd\" fill-opacity=\"1\" stroke=\"#000000\" stroke-opacity=\"1\" stroke-width=\"3.2\"/>\n",
       "<circle clip-path=\"url(#clip402)\" cx=\"229.409\" cy=\"1061.53\" r=\"14\" fill=\"#009af9\" fill-rule=\"evenodd\" fill-opacity=\"1\" stroke=\"#000000\" stroke-opacity=\"1\" stroke-width=\"3.2\"/>\n",
       "<circle clip-path=\"url(#clip402)\" cx=\"309.081\" cy=\"1128.81\" r=\"14\" fill=\"#009af9\" fill-rule=\"evenodd\" fill-opacity=\"1\" stroke=\"#000000\" stroke-opacity=\"1\" stroke-width=\"3.2\"/>\n",
       "<circle clip-path=\"url(#clip402)\" cx=\"2234.64\" cy=\"982.322\" r=\"14\" fill=\"#009af9\" fill-rule=\"evenodd\" fill-opacity=\"1\" stroke=\"#000000\" stroke-opacity=\"1\" stroke-width=\"3.2\"/>\n",
       "<circle clip-path=\"url(#clip402)\" cx=\"2254.47\" cy=\"1002.15\" r=\"14\" fill=\"#009af9\" fill-rule=\"evenodd\" fill-opacity=\"1\" stroke=\"#000000\" stroke-opacity=\"1\" stroke-width=\"3.2\"/>\n",
       "<circle clip-path=\"url(#clip402)\" cx=\"2242.06\" cy=\"1099.48\" r=\"14\" fill=\"#009af9\" fill-rule=\"evenodd\" fill-opacity=\"1\" stroke=\"#000000\" stroke-opacity=\"1\" stroke-width=\"3.2\"/>\n",
       "<circle clip-path=\"url(#clip402)\" cx=\"2240.06\" cy=\"192.941\" r=\"14\" fill=\"#009af9\" fill-rule=\"evenodd\" fill-opacity=\"1\" stroke=\"#000000\" stroke-opacity=\"1\" stroke-width=\"3.2\"/>\n",
       "<circle clip-path=\"url(#clip402)\" cx=\"2252.19\" cy=\"87.9763\" r=\"14\" fill=\"#009af9\" fill-rule=\"evenodd\" fill-opacity=\"1\" stroke=\"#000000\" stroke-opacity=\"1\" stroke-width=\"3.2\"/>\n",
       "<circle clip-path=\"url(#clip402)\" cx=\"2274.48\" cy=\"1022.59\" r=\"14\" fill=\"#009af9\" fill-rule=\"evenodd\" fill-opacity=\"1\" stroke=\"#000000\" stroke-opacity=\"1\" stroke-width=\"3.2\"/>\n",
       "<circle clip-path=\"url(#clip402)\" cx=\"2261.93\" cy=\"1119.12\" r=\"14\" fill=\"#009af9\" fill-rule=\"evenodd\" fill-opacity=\"1\" stroke=\"#000000\" stroke-opacity=\"1\" stroke-width=\"3.2\"/>\n",
       "<circle clip-path=\"url(#clip402)\" cx=\"2273.37\" cy=\"352.344\" r=\"14\" fill=\"#009af9\" fill-rule=\"evenodd\" fill-opacity=\"1\" stroke=\"#000000\" stroke-opacity=\"1\" stroke-width=\"3.2\"/>\n",
       "<circle clip-path=\"url(#clip402)\" cx=\"2215.32\" cy=\"963.327\" r=\"14\" fill=\"#009af9\" fill-rule=\"evenodd\" fill-opacity=\"1\" stroke=\"#000000\" stroke-opacity=\"1\" stroke-width=\"3.2\"/>\n",
       "<circle clip-path=\"url(#clip402)\" cx=\"2222.5\" cy=\"1081.13\" r=\"14\" fill=\"#009af9\" fill-rule=\"evenodd\" fill-opacity=\"1\" stroke=\"#000000\" stroke-opacity=\"1\" stroke-width=\"3.2\"/>\n",
       "<circle clip-path=\"url(#clip402)\" cx=\"2184.11\" cy=\"1046.18\" r=\"14\" fill=\"#009af9\" fill-rule=\"evenodd\" fill-opacity=\"1\" stroke=\"#000000\" stroke-opacity=\"1\" stroke-width=\"3.2\"/>\n",
       "<circle clip-path=\"url(#clip402)\" cx=\"2203.28\" cy=\"1063.69\" r=\"14\" fill=\"#009af9\" fill-rule=\"evenodd\" fill-opacity=\"1\" stroke=\"#000000\" stroke-opacity=\"1\" stroke-width=\"3.2\"/>\n",
       "<circle clip-path=\"url(#clip402)\" cx=\"2283.61\" cy=\"1134.43\" r=\"14\" fill=\"#009af9\" fill-rule=\"evenodd\" fill-opacity=\"1\" stroke=\"#000000\" stroke-opacity=\"1\" stroke-width=\"3.2\"/>\n",
       "<circle clip-path=\"url(#clip402)\" cx=\"2164.93\" cy=\"1028.71\" r=\"14\" fill=\"#009af9\" fill-rule=\"evenodd\" fill-opacity=\"1\" stroke=\"#000000\" stroke-opacity=\"1\" stroke-width=\"3.2\"/>\n",
       "<circle clip-path=\"url(#clip402)\" cx=\"529.564\" cy=\"1223.86\" r=\"14\" fill=\"#009af9\" fill-rule=\"evenodd\" fill-opacity=\"1\" stroke=\"#000000\" stroke-opacity=\"1\" stroke-width=\"3.2\"/>\n",
       "<circle clip-path=\"url(#clip402)\" cx=\"636.868\" cy=\"1445.72\" r=\"14\" fill=\"#009af9\" fill-rule=\"evenodd\" fill-opacity=\"1\" stroke=\"#000000\" stroke-opacity=\"1\" stroke-width=\"3.2\"/>\n",
       "<circle clip-path=\"url(#clip402)\" cx=\"570.768\" cy=\"1261.54\" r=\"14\" fill=\"#009af9\" fill-rule=\"evenodd\" fill-opacity=\"1\" stroke=\"#000000\" stroke-opacity=\"1\" stroke-width=\"3.2\"/>\n",
       "<circle clip-path=\"url(#clip402)\" cx=\"626.042\" cy=\"1235.29\" r=\"14\" fill=\"#009af9\" fill-rule=\"evenodd\" fill-opacity=\"1\" stroke=\"#000000\" stroke-opacity=\"1\" stroke-width=\"3.2\"/>\n",
       "<circle clip-path=\"url(#clip402)\" cx=\"607.364\" cy=\"1268.69\" r=\"14\" fill=\"#009af9\" fill-rule=\"evenodd\" fill-opacity=\"1\" stroke=\"#000000\" stroke-opacity=\"1\" stroke-width=\"3.2\"/>\n",
       "<circle clip-path=\"url(#clip402)\" cx=\"588.675\" cy=\"1213.41\" r=\"14\" fill=\"#009af9\" fill-rule=\"evenodd\" fill-opacity=\"1\" stroke=\"#000000\" stroke-opacity=\"1\" stroke-width=\"3.2\"/>\n",
       "<path clip-path=\"url(#clip400)\" d=\"\n",
       "M1981.82 198.898 L2279.25 198.898 L2279.25 95.2176 L1981.82 95.2176  Z\n",
       "  \" fill=\"#ffffff\" fill-rule=\"evenodd\" fill-opacity=\"1\"/>\n",
       "<polyline clip-path=\"url(#clip400)\" style=\"stroke:#000000; stroke-linecap:butt; stroke-linejoin:round; stroke-width:4; stroke-opacity:1; fill:none\" points=\"\n",
       "  1981.82,198.898 2279.25,198.898 2279.25,95.2176 1981.82,95.2176 1981.82,198.898 \n",
       "  \"/>\n",
       "<circle clip-path=\"url(#clip400)\" cx=\"2079.82\" cy=\"147.058\" r=\"23\" fill=\"#009af9\" fill-rule=\"evenodd\" fill-opacity=\"1\" stroke=\"#000000\" stroke-opacity=\"1\" stroke-width=\"5.12\"/>\n",
       "<path clip-path=\"url(#clip400)\" d=\"M2191.67 166.745 Q2189.86 171.375 2188.15 172.787 Q2186.43 174.199 2183.56 174.199 L2180.16 174.199 L2180.16 170.634 L2182.66 170.634 Q2184.42 170.634 2185.39 169.8 Q2186.36 168.967 2187.55 165.865 L2188.31 163.921 L2177.82 138.412 L2182.34 138.412 L2190.44 158.689 L2198.54 138.412 L2203.05 138.412 L2191.67 166.745 Z\" fill=\"#000000\" fill-rule=\"evenodd\" fill-opacity=\"1\" /><path clip-path=\"url(#clip400)\" d=\"M2210.35 160.402 L2217.98 160.402 L2217.98 134.037 L2209.67 135.703 L2209.67 131.444 L2217.94 129.778 L2222.61 129.778 L2222.61 160.402 L2230.25 160.402 L2230.25 164.338 L2210.35 164.338 L2210.35 160.402 Z\" fill=\"#000000\" fill-rule=\"evenodd\" fill-opacity=\"1\" /></svg>\n"
      ]
     },
     "execution_count": 12,
     "metadata": {},
     "output_type": "execute_result"
    },
    {
     "name": "stderr",
     "output_type": "stream",
     "text": [
      "┌ Info: Precompiling GR_jll [d2c73de3-f751-5644-a686-071e5b155ba9]\n",
      "└ @ Base loading.jl:1423\n",
      "\u001b[33m\u001b[1m┌ \u001b[22m\u001b[39m\u001b[33m\u001b[1mWarning: \u001b[22m\u001b[39mModule FFMPEG_jll with build ID 11994865188825715 is missing from the cache.\n",
      "\u001b[33m\u001b[1m│ \u001b[22m\u001b[39mThis may mean FFMPEG_jll [b22a6f82-2f65-5046-a5b2-351ab43fb4e5] does not support precompilation but is imported by a module that does.\n",
      "\u001b[33m\u001b[1m└ \u001b[22m\u001b[39m\u001b[90m@ Base loading.jl:1107\u001b[39m\n",
      "┌ Info: Skipping precompilation since __precompile__(false). Importing GR_jll [d2c73de3-f751-5644-a686-071e5b155ba9].\n",
      "└ @ Base loading.jl:1124\n"
     ]
    }
   ],
   "source": [
    "plot(tiles_dic[\"RA\"],tiles_dic[\"DEC\"],seriestype=:scatter)"
   ]
  },
  {
   "cell_type": "code",
   "execution_count": 18,
   "id": "c23f9d32",
   "metadata": {},
   "outputs": [],
   "source": [
    "using CodecLz4"
   ]
  },
  {
   "cell_type": "code",
   "execution_count": 13,
   "id": "80da2a24",
   "metadata": {},
   "outputs": [],
   "source": [
    "using JLD2\n",
    "jldopen(\"example.jld2\", \"w\") do f\n",
    "    # This can be efficiently compressed  → use compression\n",
    "    write(f, \"compressed_array\", zeros(10000); compress=true)\n",
    "\n",
    "    # Don't compress this \n",
    "    write(f, \"large_array\", rand(10000))\n",
    "end"
   ]
  },
  {
   "cell_type": "code",
   "execution_count": 22,
   "id": "5be04b64",
   "metadata": {},
   "outputs": [],
   "source": [
    "jldopen(\"example2.jld2\", \"w\",compress=LZ4FrameCompressor()) do f\n",
    "    # This can be efficiently compressed  → use compression\n",
    "    write(f, \"compressed_array\", zeros(10000); compress=true)\n",
    "\n",
    "    # Don't compress this \n",
    "    write(f, \"large_array\", [\"a1\",\"b1\",\"c1\",\"d1\"], compress=true)\n",
    "end"
   ]
  },
  {
   "cell_type": "code",
   "execution_count": 27,
   "id": "fd085fce",
   "metadata": {},
   "outputs": [
    {
     "data": {
      "text/plain": [
       "JLDFile /Users/shadab/Documents/Projects/MockFBA/mocks/JLD2_data/FBA_ph000/TILEID_9674.jld2 (read-only)\n",
       " ├─🔢 ELG_Bool_ass\n",
       " ├─🔢 ELG_location_ass\n",
       " ├─🔢 ELG_index\n",
       " ├─🔢 LRG_Bool_ass\n",
       " ├─🔢 LRG_location_ass\n",
       " ├─🔢 LRG_index\n",
       " ├─🔢 QSO_Bool_ass\n",
       " ├─🔢 QSO_location_ass\n",
       " └─🔢 QSO_index"
      ]
     },
     "execution_count": 27,
     "metadata": {},
     "output_type": "execute_result"
    }
   ],
   "source": [
    "file=jldopen(\"/Users/shadab/Documents/Projects/MockFBA/mocks/JLD2_data/FBA_ph000/TILEID_9674.jld2\",\"r\")"
   ]
  },
  {
   "cell_type": "code",
   "execution_count": 33,
   "id": "f954c2aa",
   "metadata": {},
   "outputs": [
    {
     "data": {
      "text/plain": [
       "2034×100 Matrix{Bool}:\n",
       " 1  1  1  1  1  1  1  1  1  1  1  1  1  …  1  1  1  1  1  1  1  1  1  0  1  1\n",
       " 1  0  1  1  1  1  1  1  0  1  1  0  1     1  1  1  1  1  0  1  1  0  1  0  1\n",
       " 1  1  1  1  1  1  1  1  1  1  1  1  1     0  0  1  1  0  1  1  1  1  1  1  1\n",
       " 0  0  0  0  0  0  0  1  0  0  1  1  0     0  1  0  0  0  1  0  0  0  1  0  1\n",
       " 1  0  1  0  0  1  0  0  0  1  0  0  0     0  0  1  0  0  0  1  0  0  0  0  0\n",
       " 1  0  0  0  0  0  0  0  0  0  0  0  0  …  0  0  0  0  0  0  0  1  1  0  0  0\n",
       " 1  0  0  0  0  0  0  0  0  1  1  0  0     0  0  0  0  1  0  1  1  0  1  0  0\n",
       " 1  0  0  0  1  0  1  0  0  1  1  1  1     1  1  1  1  1  0  1  1  0  1  1  1\n",
       " 0  0  0  1  1  0  1  1  0  0  0  1  0     0  0  0  0  0  0  0  1  0  0  1  0\n",
       " 1  0  1  0  1  1  1  0  0  1  1  1  1     1  1  1  0  0  1  1  0  0  0  1  1\n",
       " 0  0  1  0  1  1  1  0  1  0  1  0  0  …  1  0  0  0  0  1  0  0  0  0  1  0\n",
       " 1  1  1  1  1  1  1  1  1  1  1  1  1     1  1  1  1  1  1  1  1  1  1  1  1\n",
       " 1  1  0  1  1  1  1  1  1  1  1  1  1     1  1  1  1  1  1  1  0  1  1  1  0\n",
       " ⋮              ⋮              ⋮        ⋱        ⋮              ⋮           \n",
       " 0  1  1  1  1  1  0  1  1  0  1  1  1     1  0  1  0  0  1  1  1  1  0  0  1\n",
       " 1  1  1  1  1  1  1  1  1  1  1  1  1     1  1  1  1  1  1  1  1  1  1  1  1\n",
       " 0  1  1  1  1  1  0  1  0  0  1  0  1     0  0  0  0  1  1  1  0  0  0  0  0\n",
       " 1  1  1  1  1  1  1  1  1  1  1  1  1  …  1  1  1  1  1  1  1  1  1  1  1  1\n",
       " 0  1  0  0  1  1  0  1  1  1  0  1  0     0  1  1  0  0  1  0  1  0  1  0  1\n",
       " 1  1  1  1  1  1  1  1  1  1  1  1  1     1  1  1  1  1  1  1  1  1  1  1  1\n",
       " 1  1  1  1  1  1  1  1  1  1  1  1  1     1  1  1  1  1  1  1  1  1  1  1  1\n",
       " 0  0  0  0  0  0  0  0  0  0  0  0  0     0  0  0  0  0  0  0  0  0  0  0  0\n",
       " 1  0  0  0  1  0  0  0  0  0  0  0  0  …  0  0  0  0  0  0  0  0  0  0  0  0\n",
       " 1  1  1  1  0  1  1  1  1  1  1  1  1     1  1  1  1  1  1  1  1  1  1  1  1\n",
       " 1  1  1  1  1  0  0  1  1  1  0  1  1     0  1  0  1  1  1  1  1  0  1  1  1\n",
       " 1  0  0  1  1  1  0  1  0  1  1  0  1     1  1  0  1  0  1  1  1  0  1  0  1"
      ]
     },
     "execution_count": 33,
     "metadata": {},
     "output_type": "execute_result"
    }
   ],
   "source": [
    "tar=file[\"QSO_Bool_ass\"]"
   ]
  },
  {
   "cell_type": "code",
   "execution_count": 134,
   "id": "a46aef99",
   "metadata": {},
   "outputs": [
    {
     "name": "stdout",
     "output_type": "stream",
     "text": [
      "bool_in = Bool[0, 1, 1, 1, 1, 1, 1, 1, 1, 1, 1, 1, 1, 1, 1, 1, 1, 1, 1, 1, 1, 1, 1, 1, 1, 1, 1, 1, 1, 1, 1, 1]\n",
      "(value_out, typeof(value_out), value_out == 15) = (0xfffffffe, UInt32, false)\n",
      "bitstring(value_out) = \"11111111111111111111111111111110\"\n",
      "  0.000018 seconds (1 allocation: 16 bytes)\n",
      "elapsed time (ns): 17656\n",
      "bytes allocated:   16\n",
      "pool allocs:       1\n"
     ]
    },
    {
     "data": {
      "text/plain": [
       "0xfffffffe"
      ]
     },
     "execution_count": 134,
     "metadata": {},
     "output_type": "execute_result"
    }
   ],
   "source": [
    "\n"
   ]
  },
  {
   "cell_type": "code",
   "execution_count": 135,
   "id": "1e3837c3",
   "metadata": {},
   "outputs": [
    {
     "name": "stdout",
     "output_type": "stream",
     "text": [
      "  149.207 ns (1 allocation: 16 bytes)\n"
     ]
    },
    {
     "data": {
      "text/plain": [
       "0xfffffffe"
      ]
     },
     "execution_count": 135,
     "metadata": {},
     "output_type": "execute_result"
    }
   ],
   "source": [
    "@btime  Bool2UInt(bool_in,value_out)"
   ]
  },
  {
   "cell_type": "code",
   "execution_count": 91,
   "id": "fb4eb404",
   "metadata": {},
   "outputs": [
    {
     "data": {
      "text/plain": [
       "UInt64"
      ]
     },
     "execution_count": 91,
     "metadata": {},
     "output_type": "execute_result"
    }
   ],
   "source": [
    "typeof(UInt64(2)^63)"
   ]
  },
  {
   "cell_type": "code",
   "execution_count": 262,
   "id": "d7cf9ab2",
   "metadata": {},
   "outputs": [
    {
     "data": {
      "text/plain": [
       "\"2022-01-18T16:08:46.151\""
      ]
     },
     "execution_count": 262,
     "metadata": {},
     "output_type": "execute_result"
    }
   ],
   "source": [
    "\"$(now(UTC))\""
   ]
  },
  {
   "cell_type": "code",
   "execution_count": 263,
   "id": "6564e696",
   "metadata": {},
   "outputs": [
    {
     "data": {
      "text/plain": [
       "3"
      ]
     },
     "execution_count": 263,
     "metadata": {},
     "output_type": "execute_result"
    }
   ],
   "source": [
    "sum([1,2])"
   ]
  },
  {
   "cell_type": "code",
   "execution_count": 289,
   "id": "ea6f2f6f",
   "metadata": {},
   "outputs": [
    {
     "name": "stdout",
     "output_type": "stream",
     "text": [
      "2022-01-19T15:52:12.942 written:test-tiles.fits\n"
     ]
    }
   ],
   "source": [
    "outfits=\"test-tiles.fits\"\n",
    "tdic=Dict{String,Array}()\n",
    "tdic[\"RA\"]=[340.0,340.0,340.0,340.0,340.0,340.0,340.0,340.0,340.0,340.0,\n",
    "            180.0,180.0,180.0,180.0,180.0,180.0,180.0,180.0,180.0,180.0]\n",
    "tdic[\"DEC\"]=[0.0,0.0,0.0,0.0,0.0,0.0,0.0,0.0,0.0,0.0,\n",
    "            10.0,10.0,10.0,10.0,10.0,10.0,10.0,10.0,10.0,10.0]\n",
    "tdic[\"PROGRAM\"]=[\"DARK\",\"DARK\",\"DARK\",\"DARK\",\"DARK\",\"DARK\",\"DARK\",\"DARK\",\"DARK\",\"DARK\",\n",
    "\"DARK\",\"DARK\",\"DARK\",\"DARK\",\"DARK\",\"DARK\",\"DARK\",\"DARK\",\"DARK\",\"DARK\"]\n",
    "tdic[\"PASS\"]=[0,1,2,3,4,5,6,7,8,9,\n",
    "            0,1,2,3,4,5,6,7,8,9]\n",
    "tdic[\"TILEID\"]=[0,1,2,3,4,5,6,7,8,9,\n",
    "                10,11,12,13,14,15,16,17,18,19]\n",
    "\n",
    "FITS(outfits,\"w\") do fout\n",
    "    #write(fout,tracer_targets)\n",
    "    #write(fout,col_write,array_write)\n",
    "    write(fout,tdic) #Here we write to the fits file\n",
    "end\n",
    "println(now(UTC),\" written:\",outfits)"
   ]
  },
  {
   "cell_type": "code",
   "execution_count": 269,
   "id": "6c977db2",
   "metadata": {},
   "outputs": [
    {
     "data": {
      "text/plain": [
       "JLDFile /Users/shadab/Documents/Projects/MockFBA/mocks_v2/JLD2_data/FBA_ph000/TILEID_11.jld2 (read-only)\n",
       " ├─🔢 ELG_Bool_ass\n",
       " ├─🔢 ELG_location_ass\n",
       " ├─🔢 ELG_index\n",
       " ├─🔢 LRG_Bool_ass\n",
       " ├─🔢 LRG_location_ass\n",
       " ├─🔢 LRG_index\n",
       " ├─🔢 QSO_Bool_ass\n",
       " ├─🔢 QSO_location_ass\n",
       " └─🔢 QSO_index"
      ]
     },
     "execution_count": 269,
     "metadata": {},
     "output_type": "execute_result"
    }
   ],
   "source": [
    "function fname_tile(tileid)\n",
    "    return \"/Users/shadab/Documents/Projects/MockFBA/mocks_v2/JLD2_data/FBA_ph000/TILEID_$(tileid).jld2\"\n",
    "end\n",
    "\n",
    "f1=jldopen(fname_tile(1),\"r\")\n",
    "f11=jldopen(fname_tile(11),\"r\")"
   ]
  },
  {
   "cell_type": "code",
   "execution_count": 272,
   "id": "d8f4c86b",
   "metadata": {},
   "outputs": [
    {
     "data": {
      "text/plain": [
       "1548-element Vector{Any}:\n",
       "  740501\n",
       "  740515\n",
       "  740524\n",
       "  740532\n",
       "  740539\n",
       "  740801\n",
       "  740830\n",
       "  740831\n",
       "  740834\n",
       "  741914\n",
       "  741922\n",
       "  741933\n",
       "  741947\n",
       "       ⋮\n",
       " 1001385\n",
       " 1001435\n",
       " 1001449\n",
       " 1001457\n",
       " 1001483\n",
       " 1001692\n",
       " 1001710\n",
       " 1001735\n",
       " 1003107\n",
       " 1003169\n",
       " 1003170\n",
       " 1003173"
      ]
     },
     "execution_count": 272,
     "metadata": {},
     "output_type": "execute_result"
    }
   ],
   "source": [
    "ind1=sort(f1[\"QSO_index\"][f1[\"QSO_Bool_ass\"][:,1]])\n",
    "ind11=sort(f11[\"QSO_index\"][f11[\"QSO_Bool_ass\"][:,1]])"
   ]
  },
  {
   "cell_type": "code",
   "execution_count": 273,
   "id": "63451ab8",
   "metadata": {},
   "outputs": [
    {
     "data": {
      "text/plain": [
       "((1756,), (1548,))"
      ]
     },
     "execution_count": 273,
     "metadata": {},
     "output_type": "execute_result"
    }
   ],
   "source": [
    "size(ind1),size(ind11)"
   ]
  },
  {
   "cell_type": "code",
   "execution_count": 276,
   "id": "c7167d69",
   "metadata": {},
   "outputs": [
    {
     "data": {
      "text/plain": [
       "(Any[740501, 740515, 740524, 740525, 740532], Any[740501, 740515, 740524, 740532, 740539])"
      ]
     },
     "execution_count": 276,
     "metadata": {},
     "output_type": "execute_result"
    }
   ],
   "source": [
    "ind1[1:5],ind11[1:5]"
   ]
  },
  {
   "cell_type": "code",
   "execution_count": 286,
   "id": "b1c790db",
   "metadata": {},
   "outputs": [
    {
     "data": {
      "text/plain": [
       "2-element Vector{Union{Nothing, Int64}}:\n",
       " 2\n",
       " 3"
      ]
     },
     "execution_count": 286,
     "metadata": {},
     "output_type": "execute_result"
    }
   ],
   "source": [
    "xx=indexin([1,2],[0,1,2])"
   ]
  },
  {
   "cell_type": "code",
   "execution_count": 285,
   "id": "946c1183",
   "metadata": {},
   "outputs": [
    {
     "data": {
      "text/plain": [
       "1-element Vector{Union{Nothing, Int64}}:\n",
       " 1"
      ]
     },
     "execution_count": 285,
     "metadata": {},
     "output_type": "execute_result"
    }
   ],
   "source": [
    "xx"
   ]
  },
  {
   "cell_type": "code",
   "execution_count": 290,
   "id": "89e80884",
   "metadata": {},
   "outputs": [
    {
     "data": {
      "text/plain": [
       "7691.374454543219"
      ]
     },
     "execution_count": 290,
     "metadata": {},
     "output_type": "execute_result"
    }
   ],
   "source": [
    "sqrt(59157241)"
   ]
  },
  {
   "cell_type": "code",
   "execution_count": null,
   "id": "0107ff3e",
   "metadata": {},
   "outputs": [],
   "source": []
  }
 ],
 "metadata": {
  "kernelspec": {
   "display_name": "Julia 1.7.1",
   "language": "julia",
   "name": "julia-1.7"
  },
  "language_info": {
   "file_extension": ".jl",
   "mimetype": "application/julia",
   "name": "julia",
   "version": "1.7.1"
  }
 },
 "nbformat": 4,
 "nbformat_minor": 5
}
