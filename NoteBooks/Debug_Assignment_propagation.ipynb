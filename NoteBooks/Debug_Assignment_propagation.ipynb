{
 "cells": [
  {
   "cell_type": "markdown",
   "id": "fb09cd4e",
   "metadata": {},
   "source": [
    "# Shadab Alam: To debug the assignment propagation\n"
   ]
  },
  {
   "cell_type": "code",
   "execution_count": 1,
   "id": "c60247a2",
   "metadata": {},
   "outputs": [
    {
     "name": "stderr",
     "output_type": "stream",
     "text": [
      "\u001b[32m\u001b[1m  Activating\u001b[22m\u001b[39m project at `~/Documents/Projects/MockFBA`\n",
      "┌ Info: Precompiling MockFBA [8f5b17de-7982-4597-b420-356a140355ec]\n",
      "└ @ Base loading.jl:1423\n"
     ]
    }
   ],
   "source": [
    "using Pkg\n",
    "Pkg.activate(\"../.\")\n",
    "#include(\"srg/MockFBA.jl\")\n",
    "import MockFBA"
   ]
  },
  {
   "cell_type": "code",
   "execution_count": 2,
   "id": "df39a1ea",
   "metadata": {},
   "outputs": [],
   "source": [
    "using Printf\n",
    "using JLD2\n",
    "using Plots\n",
    "using BenchmarkTools\n",
    "using YAML\n",
    "using FITSIO\n",
    "using Dates"
   ]
  },
  {
   "cell_type": "code",
   "execution_count": 3,
   "id": "d6df32d2",
   "metadata": {},
   "outputs": [],
   "source": [
    "config=YAML.load_file(\"../config_tmp.yaml\")\n",
    "tile_date=\"2019-09-16T00:00:00\"\n",
    "plate_scale=nothing;fp_dic=nothing;exc_dic=nothing\n"
   ]
  },
  {
   "cell_type": "code",
   "execution_count": 25,
   "id": "b8710f84",
   "metadata": {},
   "outputs": [
    {
     "data": {
      "text/plain": [
       "100"
      ]
     },
     "execution_count": 25,
     "metadata": {},
     "output_type": "execute_result"
    }
   ],
   "source": [
    "tile_pass=1\n",
    "tile_index=1\n",
    "tiles_dic=MockFBA.load_DESI_tiles(config[\"TILES\"][\"tile_file\"],config[\"TILES\"][\"PROGRAM\"],\n",
    "                  tile_pass,config[\"sky\"])\n",
    "tile_id=tiles_dic[\"TILEID\"][tile_index]\n",
    "columns=[\"RA\",\"DEC\"]\n",
    "num_fba=100"
   ]
  },
  {
   "cell_type": "code",
   "execution_count": 92,
   "id": "b9a50762",
   "metadata": {},
   "outputs": [
    {
     "name": "stdout",
     "output_type": "stream",
     "text": [
      "Debug:Load_tracers_intile QSO\n",
      "Debug:Load_tracers_intile ELG\n",
      "Debug:Load_tracers_intile LRG\n",
      "Finished"
     ]
    }
   ],
   "source": [
    "\n",
    "\n",
    "#targets_dic,fp_dic,exc_dic=MockFBA.Prepare_tile(config,tile_index,tiles_dic;tile_date=tile_date,\n",
    "#        plate_scale=plate_scale,fp_dic=fp_dic,exc_dic=exc_dic,num_fba=config[\"NumFBARealization\"])\n",
    "\n",
    "targets_dic=MockFBA.load_targets_intile(config,tile_id,tile_pass,config[\"group\"];\n",
    "                    columns=[\"X_UNIT\",\"Y_UNIT\",\"Z_UNIT\",\"PRIORITY\"],num_fba=num_fba)\n",
    "\n",
    "plate_scale=MockFBA.load_platescale(config[\"focal_plane\"][\"focalplane_dir\"])\n",
    "telra=tiles_dic[\"RA\"][tile_index]\n",
    "teldec=tiles_dic[\"DEC\"][tile_index]\n",
    "targets_dic[\"X_FP\"], targets_dic[\"Y_FP\"]= MockFBA.xyz_unit_2_xy_focalplane(telra, teldec,\n",
    "    targets_dic[\"X_UNIT\"],targets_dic[\"Y_UNIT\"],targets_dic[\"Z_UNIT\"],plate_scale)\n",
    "\n",
    "\n",
    "#define the grid scale\n",
    "grid_scale=MockFBA.get_grid_scale(fp_dic)\n",
    "\n",
    "#get the focal plane bound\n",
    "targets_dic[\"fp_bound\"]=MockFBA.get_bound_focal_plane(targets_dic[\"X_FP\"], targets_dic[\"Y_FP\"],grid_scale;pad=1.0)\n",
    "\n",
    "#Assign zones\n",
    "targets_dic[\"zone_x\"],targets_dic[\"zone_y\"]=MockFBA.Assign_xy_zone(targets_dic[\"X_FP\"], targets_dic[\"Y_FP\"],targets_dic[\"fp_bound\"])\n",
    "\n",
    "#Assifn zones for hardware in fp\n",
    "#fp_dic[\"zone_x\"],fp_dic[\"zone_y\"]=Assign_xy_zone(fp_dic[\"OFFSET_X\"], fp_dic[\"OFFSET_Y\"],targets_dic[\"fp_bound\"])\n",
    "\n",
    "#sort targets\n",
    "#MockFBA.sort_targets_ZonePriority!(targets_dic)\n",
    "#sort devices\n",
    "#MockFBA.sort_hardware_ZonePriority!(fp_dic,targets_dic[\"fp_bound\"])\n",
    "\n",
    "\n",
    "zone_xy=zeros(eltype(targets_dic[\"zone_x\"]),targets_dic[\"ntarget\"])\n",
    "MockFBA.get_zonexy!(targets_dic[\"zone_x\"],targets_dic[\"zone_y\"],targets_dic[\"fp_bound\"],zone_xy)\n",
    "\n",
    "#Actual sorting, remapping and zone_map consistinting of indices range\n",
    "#MockFBA.sort_ZoneXp_Apply!(zone_xy,targets_dic[\"PRIORITY\"],targets_dic)\n",
    "\n",
    "\n",
    "print(\"Finished\")"
   ]
  },
  {
   "cell_type": "code",
   "execution_count": 93,
   "id": "2dded9c7",
   "metadata": {},
   "outputs": [
    {
     "name": "stdout",
     "output_type": "stream",
     "text": [
      "sorting zone_y 0x000000010e3fdde0\n",
      "sorting Z_UNIT 0x000000010e3d55a0\n",
      "not sorting not array fp_bound\n",
      "sorting X_FP 0x000000010e3fd000\n",
      "sorting collided 0x000000010e3d4a90\n",
      "sorting Y_UNIT 0x000000010e3d4af0\n",
      "sorting Y_FP 0x000000010e3fd150\n",
      "sorting zone_x 0x000000010e3fdcc0\n",
      "sorting X_UNIT 0x000000010e3d4ac0\n",
      "sorting PRIORITY 0x000000010e3d5660\n",
      "sorting filekey 0x000000010eb75dd0\n",
      "not sorting not array file_map\n",
      "not sorting not array ntarget\n",
      "sorting index 0x000000010e3d4a00\n"
     ]
    },
    {
     "data": {
      "text/plain": [
       "32256-element Vector{Int64}:\n",
       "  1404\n",
       " 27469\n",
       "  4084\n",
       "  8082\n",
       " 26313\n",
       " 26572\n",
       " 10428\n",
       "  3047\n",
       " 27317\n",
       " 27716\n",
       "  8088\n",
       " 10096\n",
       " 25058\n",
       "     ⋮\n",
       " 21160\n",
       " 21275\n",
       "  2606\n",
       " 30440\n",
       " 16469\n",
       " 21110\n",
       " 22349\n",
       " 22646\n",
       " 15486\n",
       " 15947\n",
       " 16680\n",
       " 24389"
      ]
     },
     "execution_count": 93,
     "metadata": {},
     "output_type": "execute_result"
    }
   ],
   "source": [
    "function sort_ZoneXp_Apply!(zone_xy,Xp,tdic)\n",
    "\n",
    "    #count number of entries\n",
    "    nxp=size(Xp,1)\n",
    "\n",
    "\n",
    "    #get the range of Xp\n",
    "    xp_min=minimum(Xp)\n",
    "    xp_max=maximum(Xp)\n",
    "\n",
    "    #new quantity for sorting\n",
    "    #The factor of 0.5 is to make sure the maximum value of priority is lower than next zone\n",
    "    #It can be any value below 1.0, 0.5 is just a conveninet choice\n",
    "    #This sort of decide the resolution of values in XP\n",
    "    new_q=(Xp .- xp_min).*(0.5/(xp_max-xp_min))\n",
    "    new_q=new_q+zone_xy\n",
    "    izone_sort=sortperm(new_q,rev=:true)\n",
    "\n",
    "    modified_ptr=[] #keep track of al the arrays sorted already to not apply sorting twice\n",
    "    #Now apply this to all of the target arrays\n",
    "    for tkey in keys(tdic)\n",
    "        if(tdic[tkey] isa Union{BitArray,Array})\n",
    "            #this_ptr=pointer_from_objref(tdic[tkey])\n",
    "            this_ptr=repr(UInt64(pointer_from_objref(tdic[tkey])))\n",
    "            if((size(tdic[tkey],1)==nxp) & (!(this_ptr in modified_ptr)) )\n",
    "                if(tdic[tkey] isa Union{BitMatrix,Matrix})\n",
    "                    tdic[tkey] .= tdic[tkey][izone_sort,:]\n",
    "                else\n",
    "                    tdic[tkey] .= tdic[tkey][izone_sort]\n",
    "                end\n",
    "                append!(modified_ptr,[this_ptr])\n",
    "                println(\"sorting $(tkey) $(this_ptr)\")\n",
    "            else\n",
    "                println(\"not sorting \",tkey,size(tdic[tkey],1), this_ptr)\n",
    "            end\n",
    "        else\n",
    "            println(\"not sorting not array \",tkey)\n",
    "        end\n",
    "    end\n",
    "\n",
    "    return izone_sort\n",
    "    #Now generate the map from of indices for each zone\n",
    "    #this_ptr=pointer_from_objref(zone_xy)\n",
    "    this_ptr=repr(UInt64(pointer_from_objref(zone_xy)))\n",
    "    if(!(this_ptr in modified_ptr) )\n",
    "        zone_xy .= zone_xy[izone_sort]\n",
    "        append!(modified_ptr,[this_ptr])\n",
    "        println(\"sorting zone_xy $(this_ptr)\")\n",
    "    end\n",
    "\n",
    "    uszone=sort(unique(zone_xy),rev=false)\n",
    "    first_zone=indexin(uszone,zone_xy)\n",
    "    last_zone=(nxp+1) .- indexin(uszone,reverse(zone_xy))\n",
    "\n",
    "    #generate the zone index map\n",
    "    nunique_zone=size(uszone,1)\n",
    "\n",
    "    tdic[\"zone_map\"]=Dict()\n",
    "    uu=1\n",
    "    tdic[\"zone_map\"][uszone[uu]]=[first_zone[uu],last_zone[uu]]\n",
    "    max_per_zone=tdic[\"zone_map\"][uszone[uu]][2]-tdic[\"zone_map\"][uszone[uu]][1]\n",
    "    min_per_zone=max_per_zone\n",
    "    for uu in 2:nunique_zone\n",
    "        tdic[\"zone_map\"][uszone[uu]]=[first_zone[uu],last_zone[uu]]\n",
    "        this_zone=last_zone[uu]-first_zone[uu]+1\n",
    "        if(this_zone<min_per_zone)\n",
    "            min_per_zone=this_zone\n",
    "        elseif(this_zone>max_per_zone)\n",
    "            max_per_zone=this_zone\n",
    "        end\n",
    "    end\n",
    "\n",
    "    tdic[\"zone_map_keys\"]=keys(tdic[\"zone_map\"])\n",
    "    tdic[\"count_maxper_zone\"]=max_per_zone\n",
    "    tdic[\"count_minper_zone\"]=min_per_zone\n",
    "end\n",
    "\n",
    "iz=sort_ZoneXp_Apply!(zone_xy,targets_dic[\"PRIORITY\"],targets_dic)"
   ]
  },
  {
   "cell_type": "code",
   "execution_count": 78,
   "id": "b18b2845",
   "metadata": {},
   "outputs": [
    {
     "data": {
      "text/plain": [
       "true"
      ]
     },
     "execution_count": 78,
     "metadata": {},
     "output_type": "execute_result"
    }
   ],
   "source": [
    "targets_dic[\"collided\"] isa Union{BitArray,Array}"
   ]
  },
  {
   "cell_type": "code",
   "execution_count": 77,
   "id": "11987a0e",
   "metadata": {},
   "outputs": [
    {
     "data": {
      "text/plain": [
       "false"
      ]
     },
     "execution_count": 77,
     "metadata": {},
     "output_type": "execute_result"
    }
   ],
   "source": [
    "targets_dic[\"collided\"] isa Vector"
   ]
  },
  {
   "cell_type": "code",
   "execution_count": 6,
   "id": "3840f4cf",
   "metadata": {},
   "outputs": [
    {
     "data": {
      "text/plain": [
       "4606"
      ]
     },
     "execution_count": 6,
     "metadata": {},
     "output_type": "execute_result"
    }
   ],
   "source": [
    "sum(targets_dic[\"collided\"][:,1])"
   ]
  },
  {
   "cell_type": "code",
   "execution_count": 104,
   "id": "d4d28de4",
   "metadata": {},
   "outputs": [
    {
     "name": "stdout",
     "output_type": "stream",
     "text": [
      "Debug:Load_tracers_intile ELG\n"
     ]
    },
    {
     "data": {
      "text/plain": [
       "Dict{Any, Any} with 7 entries:\n",
       "  \"ref_group\" => \"SGC\"\n",
       "  \"PASS\"      => 1\n",
       "  \"RA\"        => Any[338.87, 338.689, 338.623, 339.299, 339.059, 338.404, 338.6…\n",
       "  \"TILEID\"    => 11\n",
       "  \"collided\"  => Bool[1 1 … 1 1; 1 0 … 0 0; … ; 0 0 … 0 0; 0 0 … 0 0]\n",
       "  \"index\"     => Any[5569556, 5569563, 5569571, 5569572, 5569575, 5569580, 5569…\n",
       "  \"DEC\"       => Any[0.411751, 0.342537, 0.41185, 0.990852, 0.887901, 0.0526428…"
      ]
     },
     "execution_count": 104,
     "metadata": {},
     "output_type": "execute_result"
    }
   ],
   "source": [
    "\n",
    "QSO_tile=MockFBA.Load_tracers_intile(config,\"ELG\",tile_id,tile_pass,config[\"group\"],columns;numobs_need=1,num_fba=num_fba)"
   ]
  },
  {
   "cell_type": "code",
   "execution_count": 108,
   "id": "c5e275b8",
   "metadata": {},
   "outputs": [
    {
     "data": {
      "text/plain": [
       "1115-element Vector{Any}:\n",
       " 5569556\n",
       " 5569563\n",
       " 5569592\n",
       " 5569599\n",
       " 5569603\n",
       " 5570038\n",
       " 5570040\n",
       " 5570069\n",
       " 5570138\n",
       " 5570397\n",
       " 5571984\n",
       " 5572123\n",
       " 5572189\n",
       "       ⋮\n",
       " 7396982\n",
       " 7404142\n",
       " 7411582\n",
       " 7413969\n",
       " 7422176\n",
       " 7427259\n",
       " 7472075\n",
       " 7485849\n",
       " 7489092\n",
       " 7505605\n",
       " 7520073\n",
       " 7531806"
      ]
     },
     "execution_count": 108,
     "metadata": {},
     "output_type": "execute_result"
    }
   ],
   "source": [
    "ind_qso_func=QSO_tile[\"index\"][QSO_tile[\"collided\"][:,1]]"
   ]
  },
  {
   "cell_type": "code",
   "execution_count": 103,
   "id": "700faa55",
   "metadata": {},
   "outputs": [],
   "source": [
    "function fname_tile(tileid)\n",
    "    return \"/Users/shadab/Documents/Projects/MockFBA/mocks_v2/JLD2_data/FBA_ph000/TILEID_$(tileid).jld2\"\n",
    "end\n",
    "\n",
    "f1=jldopen(fname_tile(1),\"r\")\n",
    "#f11=jldopen(fname_tile(11),\"r\")\n",
    "ind_qso_jld=sort(f1[\"ELG_index\"][f1[\"ELG_Bool_ass\"][:,1]])\n",
    "close(f1)"
   ]
  },
  {
   "cell_type": "code",
   "execution_count": 106,
   "id": "26324f26",
   "metadata": {},
   "outputs": [
    {
     "data": {
      "text/plain": [
       "1115-element Vector{Any}:\n",
       " 5569556\n",
       " 5569563\n",
       " 5569592\n",
       " 5569599\n",
       " 5569603\n",
       " 5570038\n",
       " 5570040\n",
       " 5570069\n",
       " 5570138\n",
       " 5570397\n",
       " 5571984\n",
       " 5572123\n",
       " 5572189\n",
       "       ⋮\n",
       " 7396982\n",
       " 7404142\n",
       " 7411582\n",
       " 7413969\n",
       " 7422176\n",
       " 7427259\n",
       " 7472075\n",
       " 7485849\n",
       " 7489092\n",
       " 7505605\n",
       " 7520073\n",
       " 7531806"
      ]
     },
     "execution_count": 106,
     "metadata": {},
     "output_type": "execute_result"
    }
   ],
   "source": [
    "\n",
    "ind_qso_coll= (targets_dic[\"filekey\"] .==2) .& (targets_dic[\"collided\"][:,1])\n",
    "ind_qso_targ=sort(targets_dic[\"index\"][ind_qso_coll])"
   ]
  },
  {
   "cell_type": "code",
   "execution_count": 109,
   "id": "617cdff6",
   "metadata": {},
   "outputs": [
    {
     "name": "stdout",
     "output_type": "stream",
     "text": [
      "(1115,)(1115,)(1115,)\n"
     ]
    }
   ],
   "source": [
    "println(size(ind_qso_func),size(ind_qso_jld),size(ind_qso_targ))"
   ]
  },
  {
   "cell_type": "code",
   "execution_count": 111,
   "id": "989c01fe",
   "metadata": {},
   "outputs": [
    {
     "data": {
      "text/plain": [
       "1115"
      ]
     },
     "execution_count": 111,
     "metadata": {},
     "output_type": "execute_result"
    }
   ],
   "source": [
    "sum(ind_qso_jld.==ind_qso_targ)"
   ]
  },
  {
   "cell_type": "code",
   "execution_count": 42,
   "id": "eb16b3d8",
   "metadata": {},
   "outputs": [
    {
     "data": {
      "text/plain": [
       "388-element Vector{Any}:\n",
       "  740525\n",
       "  740540\n",
       "  740806\n",
       "  740832\n",
       "  741941\n",
       "  741943\n",
       "  742937\n",
       "  743258\n",
       "  743976\n",
       "  745990\n",
       "  746412\n",
       "  747247\n",
       "  747252\n",
       "       ⋮\n",
       "  994633\n",
       "  995875\n",
       "  998325\n",
       "  998495\n",
       "  998842\n",
       " 1000382\n",
       " 1000420\n",
       " 1000428\n",
       " 1000838\n",
       " 1001335\n",
       " 1001442\n",
       " 1003201"
      ]
     },
     "execution_count": 42,
     "metadata": {},
     "output_type": "execute_result"
    }
   ],
   "source": []
  },
  {
   "cell_type": "code",
   "execution_count": 19,
   "id": "f40a1714",
   "metadata": {},
   "outputs": [
    {
     "data": {
      "text/plain": [
       "KeySet for a Dict{Any, Any} with 18 entries. Keys:\n",
       "  \"zone_y\"\n",
       "  \"Z_UNIT\"\n",
       "  \"fp_bound\"\n",
       "  \"X_FP\"\n",
       "  \"collided\"\n",
       "  \"Y_UNIT\"\n",
       "  \"Y_FP\"\n",
       "  \"zone_map_keys\"\n",
       "  \"zone_x\"\n",
       "  \"count_maxper_zone\"\n",
       "  \"X_UNIT\"\n",
       "  \"PRIORITY\"\n",
       "  \"zone_map\"\n",
       "  \"filekey\"\n",
       "  \"file_map\"\n",
       "  \"ntarget\"\n",
       "  \"index\"\n",
       "  \"count_minper_zone\""
      ]
     },
     "execution_count": 19,
     "metadata": {},
     "output_type": "execute_result"
    }
   ],
   "source": [
    "keys(targets_dic)"
   ]
  },
  {
   "cell_type": "code",
   "execution_count": 100,
   "id": "e3c6d5bb",
   "metadata": {},
   "outputs": [
    {
     "data": {
      "text/plain": [
       "Dict{Any, Any} with 3 entries:\n",
       "  2 => [\"ELG\", \"/Users/shadab/Documents/Projects/MockFBA/mocks_v2/JLD2_data/ELG…\n",
       "  3 => [\"LRG\", \"/Users/shadab/Documents/Projects/MockFBA/mocks_v2/JLD2_data/LRG…\n",
       "  1 => [\"QSO\", \"/Users/shadab/Documents/Projects/MockFBA/mocks_v2/JLD2_data/QSO…"
      ]
     },
     "execution_count": 100,
     "metadata": {},
     "output_type": "execute_result"
    }
   ],
   "source": [
    "targets_dic[\"file_map\"]"
   ]
  },
  {
   "cell_type": "code",
   "execution_count": 112,
   "id": "47c89812",
   "metadata": {},
   "outputs": [
    {
     "data": {
      "text/plain": [
       "14980"
      ]
     },
     "execution_count": 112,
     "metadata": {},
     "output_type": "execute_result"
    }
   ],
   "source": [
    "18842-(3161 +681 +20)"
   ]
  },
  {
   "cell_type": "code",
   "execution_count": 113,
   "id": "6ade8407",
   "metadata": {},
   "outputs": [
    {
     "data": {
      "text/plain": [
       "11815"
      ]
     },
     "execution_count": 113,
     "metadata": {},
     "output_type": "execute_result"
    }
   ],
   "source": [
    "14980-(2884 +277 +4)"
   ]
  },
  {
   "cell_type": "code",
   "execution_count": 114,
   "id": "14170c5c",
   "metadata": {},
   "outputs": [
    {
     "data": {
      "text/plain": [
       "2303"
      ]
     },
     "execution_count": 114,
     "metadata": {},
     "output_type": "execute_result"
    }
   ],
   "source": [
    "1756+435+88+20+4"
   ]
  },
  {
   "cell_type": "code",
   "execution_count": 115,
   "id": "81d9c9af",
   "metadata": {},
   "outputs": [
    {
     "data": {
      "text/plain": [
       "JLDFile /Users/shadab/Documents/Projects/MockFBA/mocks_v2/JLD2_data/QSO_ph000.jld2 (read-only)\n",
       " ├─🔢 order\n",
       " ├─📂 SGC\n",
       " │  ├─🔢 order\n",
       " │  ├─📂 zone_77\n",
       " │  │  ├─🔢 RA\n",
       " │  │  ├─🔢 DEC\n",
       " │  │  ├─🔢 PRIORITY\n",
       " │  │  └─ ⋯ (14 more entries)\n",
       " │  └─ ⋯ (25 more entries)\n",
       " └─ ⋯ (3 more entries)"
      ]
     },
     "execution_count": 115,
     "metadata": {},
     "output_type": "execute_result"
    }
   ],
   "source": [
    "file=jldopen(\"/Users/shadab/Documents/Projects/MockFBA/mocks_v2/JLD2_data/QSO_ph000.jld2\",\"r\")"
   ]
  },
  {
   "cell_type": "code",
   "execution_count": 117,
   "id": "88b37ad9",
   "metadata": {},
   "outputs": [
    {
     "data": {
      "text/plain": [
       "17-element Vector{String}:\n",
       " \"RA\"\n",
       " \"DEC\"\n",
       " \"PRIORITY\"\n",
       " \"FITS_index\"\n",
       " \"TILEID_PASS0\"\n",
       " \"TILEID_PASS1\"\n",
       " \"TILEID_PASS2\"\n",
       " \"TILEID_PASS3\"\n",
       " \"TILEID_PASS4\"\n",
       " \"TILEID_PASS5\"\n",
       " \"TILEID_PASS6\"\n",
       " \"TILEID_PASS7\"\n",
       " \"TILEID_PASS8\"\n",
       " \"TILEID_PASS9\"\n",
       " \"X_UNIT\"\n",
       " \"Y_UNIT\"\n",
       " \"Z_UNIT\""
      ]
     },
     "execution_count": 117,
     "metadata": {},
     "output_type": "execute_result"
    }
   ],
   "source": [
    "keys(file[\"SGC\"][\"zone_77\"])"
   ]
  },
  {
   "cell_type": "code",
   "execution_count": null,
   "id": "54aa30cd",
   "metadata": {},
   "outputs": [],
   "source": []
  }
 ],
 "metadata": {
  "kernelspec": {
   "display_name": "Julia 1.7.1",
   "language": "julia",
   "name": "julia-1.7"
  },
  "language_info": {
   "file_extension": ".jl",
   "mimetype": "application/julia",
   "name": "julia",
   "version": "1.7.1"
  }
 },
 "nbformat": 4,
 "nbformat_minor": 5
}
